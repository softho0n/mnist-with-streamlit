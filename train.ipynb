{
  "metadata": {
    "kernelspec": {
      "language": "python",
      "display_name": "Python 3",
      "name": "python3"
    },
    "language_info": {
      "name": "python",
      "version": "3.7.12",
      "mimetype": "text/x-python",
      "codemirror_mode": {
        "name": "ipython",
        "version": 3
      },
      "pygments_lexer": "ipython3",
      "nbconvert_exporter": "python",
      "file_extension": ".py"
    },
    "colab": {
      "name": "2022-ml-hw2.ipynb",
      "provenance": [],
      "collapsed_sections": []
    },
    "accelerator": "GPU",
    "widgets": {
      "application/vnd.jupyter.widget-state+json": {
        "c887741d9efd4a5eb8aeebebe3fedc54": {
          "model_module": "@jupyter-widgets/controls",
          "model_name": "HBoxModel",
          "model_module_version": "1.5.0",
          "state": {
            "_dom_classes": [],
            "_model_module": "@jupyter-widgets/controls",
            "_model_module_version": "1.5.0",
            "_model_name": "HBoxModel",
            "_view_count": null,
            "_view_module": "@jupyter-widgets/controls",
            "_view_module_version": "1.5.0",
            "_view_name": "HBoxView",
            "box_style": "",
            "children": [
              "IPY_MODEL_a1c693d71e2947cb9721fc29f9869b48",
              "IPY_MODEL_550310e4de654d4ca6f8db0e5d407ac3",
              "IPY_MODEL_c8561b817b594566937b68e727bcec7d"
            ],
            "layout": "IPY_MODEL_6b513c971e534d3aa0c829d972a50bcc"
          }
        },
        "a1c693d71e2947cb9721fc29f9869b48": {
          "model_module": "@jupyter-widgets/controls",
          "model_name": "HTMLModel",
          "model_module_version": "1.5.0",
          "state": {
            "_dom_classes": [],
            "_model_module": "@jupyter-widgets/controls",
            "_model_module_version": "1.5.0",
            "_model_name": "HTMLModel",
            "_view_count": null,
            "_view_module": "@jupyter-widgets/controls",
            "_view_module_version": "1.5.0",
            "_view_name": "HTMLView",
            "description": "",
            "description_tooltip": null,
            "layout": "IPY_MODEL_3f633ab6a94f427d8e8bb8d876204a90",
            "placeholder": "​",
            "style": "IPY_MODEL_e82efb4114c14773ab9f094e93059777",
            "value": ""
          }
        },
        "550310e4de654d4ca6f8db0e5d407ac3": {
          "model_module": "@jupyter-widgets/controls",
          "model_name": "FloatProgressModel",
          "model_module_version": "1.5.0",
          "state": {
            "_dom_classes": [],
            "_model_module": "@jupyter-widgets/controls",
            "_model_module_version": "1.5.0",
            "_model_name": "FloatProgressModel",
            "_view_count": null,
            "_view_module": "@jupyter-widgets/controls",
            "_view_module_version": "1.5.0",
            "_view_name": "ProgressView",
            "bar_style": "success",
            "description": "",
            "description_tooltip": null,
            "layout": "IPY_MODEL_44c6a018e28d4901a50ea3b9982c14f4",
            "max": 9912422,
            "min": 0,
            "orientation": "horizontal",
            "style": "IPY_MODEL_bb0e8d9560724f56acb2c1c669ae4110",
            "value": 9912422
          }
        },
        "c8561b817b594566937b68e727bcec7d": {
          "model_module": "@jupyter-widgets/controls",
          "model_name": "HTMLModel",
          "model_module_version": "1.5.0",
          "state": {
            "_dom_classes": [],
            "_model_module": "@jupyter-widgets/controls",
            "_model_module_version": "1.5.0",
            "_model_name": "HTMLModel",
            "_view_count": null,
            "_view_module": "@jupyter-widgets/controls",
            "_view_module_version": "1.5.0",
            "_view_name": "HTMLView",
            "description": "",
            "description_tooltip": null,
            "layout": "IPY_MODEL_466c509e6c0649b1978b9982ca17ea5b",
            "placeholder": "​",
            "style": "IPY_MODEL_e05f9858ad6d43788653dc25bb03e91e",
            "value": " 9913344/? [00:00&lt;00:00, 45830918.38it/s]"
          }
        },
        "6b513c971e534d3aa0c829d972a50bcc": {
          "model_module": "@jupyter-widgets/base",
          "model_name": "LayoutModel",
          "model_module_version": "1.2.0",
          "state": {
            "_model_module": "@jupyter-widgets/base",
            "_model_module_version": "1.2.0",
            "_model_name": "LayoutModel",
            "_view_count": null,
            "_view_module": "@jupyter-widgets/base",
            "_view_module_version": "1.2.0",
            "_view_name": "LayoutView",
            "align_content": null,
            "align_items": null,
            "align_self": null,
            "border": null,
            "bottom": null,
            "display": null,
            "flex": null,
            "flex_flow": null,
            "grid_area": null,
            "grid_auto_columns": null,
            "grid_auto_flow": null,
            "grid_auto_rows": null,
            "grid_column": null,
            "grid_gap": null,
            "grid_row": null,
            "grid_template_areas": null,
            "grid_template_columns": null,
            "grid_template_rows": null,
            "height": null,
            "justify_content": null,
            "justify_items": null,
            "left": null,
            "margin": null,
            "max_height": null,
            "max_width": null,
            "min_height": null,
            "min_width": null,
            "object_fit": null,
            "object_position": null,
            "order": null,
            "overflow": null,
            "overflow_x": null,
            "overflow_y": null,
            "padding": null,
            "right": null,
            "top": null,
            "visibility": null,
            "width": null
          }
        },
        "3f633ab6a94f427d8e8bb8d876204a90": {
          "model_module": "@jupyter-widgets/base",
          "model_name": "LayoutModel",
          "model_module_version": "1.2.0",
          "state": {
            "_model_module": "@jupyter-widgets/base",
            "_model_module_version": "1.2.0",
            "_model_name": "LayoutModel",
            "_view_count": null,
            "_view_module": "@jupyter-widgets/base",
            "_view_module_version": "1.2.0",
            "_view_name": "LayoutView",
            "align_content": null,
            "align_items": null,
            "align_self": null,
            "border": null,
            "bottom": null,
            "display": null,
            "flex": null,
            "flex_flow": null,
            "grid_area": null,
            "grid_auto_columns": null,
            "grid_auto_flow": null,
            "grid_auto_rows": null,
            "grid_column": null,
            "grid_gap": null,
            "grid_row": null,
            "grid_template_areas": null,
            "grid_template_columns": null,
            "grid_template_rows": null,
            "height": null,
            "justify_content": null,
            "justify_items": null,
            "left": null,
            "margin": null,
            "max_height": null,
            "max_width": null,
            "min_height": null,
            "min_width": null,
            "object_fit": null,
            "object_position": null,
            "order": null,
            "overflow": null,
            "overflow_x": null,
            "overflow_y": null,
            "padding": null,
            "right": null,
            "top": null,
            "visibility": null,
            "width": null
          }
        },
        "e82efb4114c14773ab9f094e93059777": {
          "model_module": "@jupyter-widgets/controls",
          "model_name": "DescriptionStyleModel",
          "model_module_version": "1.5.0",
          "state": {
            "_model_module": "@jupyter-widgets/controls",
            "_model_module_version": "1.5.0",
            "_model_name": "DescriptionStyleModel",
            "_view_count": null,
            "_view_module": "@jupyter-widgets/base",
            "_view_module_version": "1.2.0",
            "_view_name": "StyleView",
            "description_width": ""
          }
        },
        "44c6a018e28d4901a50ea3b9982c14f4": {
          "model_module": "@jupyter-widgets/base",
          "model_name": "LayoutModel",
          "model_module_version": "1.2.0",
          "state": {
            "_model_module": "@jupyter-widgets/base",
            "_model_module_version": "1.2.0",
            "_model_name": "LayoutModel",
            "_view_count": null,
            "_view_module": "@jupyter-widgets/base",
            "_view_module_version": "1.2.0",
            "_view_name": "LayoutView",
            "align_content": null,
            "align_items": null,
            "align_self": null,
            "border": null,
            "bottom": null,
            "display": null,
            "flex": null,
            "flex_flow": null,
            "grid_area": null,
            "grid_auto_columns": null,
            "grid_auto_flow": null,
            "grid_auto_rows": null,
            "grid_column": null,
            "grid_gap": null,
            "grid_row": null,
            "grid_template_areas": null,
            "grid_template_columns": null,
            "grid_template_rows": null,
            "height": null,
            "justify_content": null,
            "justify_items": null,
            "left": null,
            "margin": null,
            "max_height": null,
            "max_width": null,
            "min_height": null,
            "min_width": null,
            "object_fit": null,
            "object_position": null,
            "order": null,
            "overflow": null,
            "overflow_x": null,
            "overflow_y": null,
            "padding": null,
            "right": null,
            "top": null,
            "visibility": null,
            "width": null
          }
        },
        "bb0e8d9560724f56acb2c1c669ae4110": {
          "model_module": "@jupyter-widgets/controls",
          "model_name": "ProgressStyleModel",
          "model_module_version": "1.5.0",
          "state": {
            "_model_module": "@jupyter-widgets/controls",
            "_model_module_version": "1.5.0",
            "_model_name": "ProgressStyleModel",
            "_view_count": null,
            "_view_module": "@jupyter-widgets/base",
            "_view_module_version": "1.2.0",
            "_view_name": "StyleView",
            "bar_color": null,
            "description_width": ""
          }
        },
        "466c509e6c0649b1978b9982ca17ea5b": {
          "model_module": "@jupyter-widgets/base",
          "model_name": "LayoutModel",
          "model_module_version": "1.2.0",
          "state": {
            "_model_module": "@jupyter-widgets/base",
            "_model_module_version": "1.2.0",
            "_model_name": "LayoutModel",
            "_view_count": null,
            "_view_module": "@jupyter-widgets/base",
            "_view_module_version": "1.2.0",
            "_view_name": "LayoutView",
            "align_content": null,
            "align_items": null,
            "align_self": null,
            "border": null,
            "bottom": null,
            "display": null,
            "flex": null,
            "flex_flow": null,
            "grid_area": null,
            "grid_auto_columns": null,
            "grid_auto_flow": null,
            "grid_auto_rows": null,
            "grid_column": null,
            "grid_gap": null,
            "grid_row": null,
            "grid_template_areas": null,
            "grid_template_columns": null,
            "grid_template_rows": null,
            "height": null,
            "justify_content": null,
            "justify_items": null,
            "left": null,
            "margin": null,
            "max_height": null,
            "max_width": null,
            "min_height": null,
            "min_width": null,
            "object_fit": null,
            "object_position": null,
            "order": null,
            "overflow": null,
            "overflow_x": null,
            "overflow_y": null,
            "padding": null,
            "right": null,
            "top": null,
            "visibility": null,
            "width": null
          }
        },
        "e05f9858ad6d43788653dc25bb03e91e": {
          "model_module": "@jupyter-widgets/controls",
          "model_name": "DescriptionStyleModel",
          "model_module_version": "1.5.0",
          "state": {
            "_model_module": "@jupyter-widgets/controls",
            "_model_module_version": "1.5.0",
            "_model_name": "DescriptionStyleModel",
            "_view_count": null,
            "_view_module": "@jupyter-widgets/base",
            "_view_module_version": "1.2.0",
            "_view_name": "StyleView",
            "description_width": ""
          }
        },
        "c9f3e04241094e478c332b82d6ca7c59": {
          "model_module": "@jupyter-widgets/controls",
          "model_name": "HBoxModel",
          "model_module_version": "1.5.0",
          "state": {
            "_dom_classes": [],
            "_model_module": "@jupyter-widgets/controls",
            "_model_module_version": "1.5.0",
            "_model_name": "HBoxModel",
            "_view_count": null,
            "_view_module": "@jupyter-widgets/controls",
            "_view_module_version": "1.5.0",
            "_view_name": "HBoxView",
            "box_style": "",
            "children": [
              "IPY_MODEL_74e044a896f540e99f96b329b0fd1019",
              "IPY_MODEL_e408afd592f04fa7ad45f54ef4be4d1f",
              "IPY_MODEL_284a56c360a2417b80288a2989ec878e"
            ],
            "layout": "IPY_MODEL_d3cbdd1ab286429194146a7d3eb85066"
          }
        },
        "74e044a896f540e99f96b329b0fd1019": {
          "model_module": "@jupyter-widgets/controls",
          "model_name": "HTMLModel",
          "model_module_version": "1.5.0",
          "state": {
            "_dom_classes": [],
            "_model_module": "@jupyter-widgets/controls",
            "_model_module_version": "1.5.0",
            "_model_name": "HTMLModel",
            "_view_count": null,
            "_view_module": "@jupyter-widgets/controls",
            "_view_module_version": "1.5.0",
            "_view_name": "HTMLView",
            "description": "",
            "description_tooltip": null,
            "layout": "IPY_MODEL_285561a4952d4803859a03e4e0b638a2",
            "placeholder": "​",
            "style": "IPY_MODEL_9dcd0c2b1e8646e28c365cc88afd52e1",
            "value": ""
          }
        },
        "e408afd592f04fa7ad45f54ef4be4d1f": {
          "model_module": "@jupyter-widgets/controls",
          "model_name": "FloatProgressModel",
          "model_module_version": "1.5.0",
          "state": {
            "_dom_classes": [],
            "_model_module": "@jupyter-widgets/controls",
            "_model_module_version": "1.5.0",
            "_model_name": "FloatProgressModel",
            "_view_count": null,
            "_view_module": "@jupyter-widgets/controls",
            "_view_module_version": "1.5.0",
            "_view_name": "ProgressView",
            "bar_style": "success",
            "description": "",
            "description_tooltip": null,
            "layout": "IPY_MODEL_0d4c0258520a478683bbbbc602ffc166",
            "max": 28881,
            "min": 0,
            "orientation": "horizontal",
            "style": "IPY_MODEL_a582ae63acc44d5486ebfabbeb50789c",
            "value": 28881
          }
        },
        "284a56c360a2417b80288a2989ec878e": {
          "model_module": "@jupyter-widgets/controls",
          "model_name": "HTMLModel",
          "model_module_version": "1.5.0",
          "state": {
            "_dom_classes": [],
            "_model_module": "@jupyter-widgets/controls",
            "_model_module_version": "1.5.0",
            "_model_name": "HTMLModel",
            "_view_count": null,
            "_view_module": "@jupyter-widgets/controls",
            "_view_module_version": "1.5.0",
            "_view_name": "HTMLView",
            "description": "",
            "description_tooltip": null,
            "layout": "IPY_MODEL_e31dfb8ccc6d44d7a6e2520499b12235",
            "placeholder": "​",
            "style": "IPY_MODEL_0129a60963e5457984ac4f192a96124b",
            "value": " 29696/? [00:00&lt;00:00, 607681.53it/s]"
          }
        },
        "d3cbdd1ab286429194146a7d3eb85066": {
          "model_module": "@jupyter-widgets/base",
          "model_name": "LayoutModel",
          "model_module_version": "1.2.0",
          "state": {
            "_model_module": "@jupyter-widgets/base",
            "_model_module_version": "1.2.0",
            "_model_name": "LayoutModel",
            "_view_count": null,
            "_view_module": "@jupyter-widgets/base",
            "_view_module_version": "1.2.0",
            "_view_name": "LayoutView",
            "align_content": null,
            "align_items": null,
            "align_self": null,
            "border": null,
            "bottom": null,
            "display": null,
            "flex": null,
            "flex_flow": null,
            "grid_area": null,
            "grid_auto_columns": null,
            "grid_auto_flow": null,
            "grid_auto_rows": null,
            "grid_column": null,
            "grid_gap": null,
            "grid_row": null,
            "grid_template_areas": null,
            "grid_template_columns": null,
            "grid_template_rows": null,
            "height": null,
            "justify_content": null,
            "justify_items": null,
            "left": null,
            "margin": null,
            "max_height": null,
            "max_width": null,
            "min_height": null,
            "min_width": null,
            "object_fit": null,
            "object_position": null,
            "order": null,
            "overflow": null,
            "overflow_x": null,
            "overflow_y": null,
            "padding": null,
            "right": null,
            "top": null,
            "visibility": null,
            "width": null
          }
        },
        "285561a4952d4803859a03e4e0b638a2": {
          "model_module": "@jupyter-widgets/base",
          "model_name": "LayoutModel",
          "model_module_version": "1.2.0",
          "state": {
            "_model_module": "@jupyter-widgets/base",
            "_model_module_version": "1.2.0",
            "_model_name": "LayoutModel",
            "_view_count": null,
            "_view_module": "@jupyter-widgets/base",
            "_view_module_version": "1.2.0",
            "_view_name": "LayoutView",
            "align_content": null,
            "align_items": null,
            "align_self": null,
            "border": null,
            "bottom": null,
            "display": null,
            "flex": null,
            "flex_flow": null,
            "grid_area": null,
            "grid_auto_columns": null,
            "grid_auto_flow": null,
            "grid_auto_rows": null,
            "grid_column": null,
            "grid_gap": null,
            "grid_row": null,
            "grid_template_areas": null,
            "grid_template_columns": null,
            "grid_template_rows": null,
            "height": null,
            "justify_content": null,
            "justify_items": null,
            "left": null,
            "margin": null,
            "max_height": null,
            "max_width": null,
            "min_height": null,
            "min_width": null,
            "object_fit": null,
            "object_position": null,
            "order": null,
            "overflow": null,
            "overflow_x": null,
            "overflow_y": null,
            "padding": null,
            "right": null,
            "top": null,
            "visibility": null,
            "width": null
          }
        },
        "9dcd0c2b1e8646e28c365cc88afd52e1": {
          "model_module": "@jupyter-widgets/controls",
          "model_name": "DescriptionStyleModel",
          "model_module_version": "1.5.0",
          "state": {
            "_model_module": "@jupyter-widgets/controls",
            "_model_module_version": "1.5.0",
            "_model_name": "DescriptionStyleModel",
            "_view_count": null,
            "_view_module": "@jupyter-widgets/base",
            "_view_module_version": "1.2.0",
            "_view_name": "StyleView",
            "description_width": ""
          }
        },
        "0d4c0258520a478683bbbbc602ffc166": {
          "model_module": "@jupyter-widgets/base",
          "model_name": "LayoutModel",
          "model_module_version": "1.2.0",
          "state": {
            "_model_module": "@jupyter-widgets/base",
            "_model_module_version": "1.2.0",
            "_model_name": "LayoutModel",
            "_view_count": null,
            "_view_module": "@jupyter-widgets/base",
            "_view_module_version": "1.2.0",
            "_view_name": "LayoutView",
            "align_content": null,
            "align_items": null,
            "align_self": null,
            "border": null,
            "bottom": null,
            "display": null,
            "flex": null,
            "flex_flow": null,
            "grid_area": null,
            "grid_auto_columns": null,
            "grid_auto_flow": null,
            "grid_auto_rows": null,
            "grid_column": null,
            "grid_gap": null,
            "grid_row": null,
            "grid_template_areas": null,
            "grid_template_columns": null,
            "grid_template_rows": null,
            "height": null,
            "justify_content": null,
            "justify_items": null,
            "left": null,
            "margin": null,
            "max_height": null,
            "max_width": null,
            "min_height": null,
            "min_width": null,
            "object_fit": null,
            "object_position": null,
            "order": null,
            "overflow": null,
            "overflow_x": null,
            "overflow_y": null,
            "padding": null,
            "right": null,
            "top": null,
            "visibility": null,
            "width": null
          }
        },
        "a582ae63acc44d5486ebfabbeb50789c": {
          "model_module": "@jupyter-widgets/controls",
          "model_name": "ProgressStyleModel",
          "model_module_version": "1.5.0",
          "state": {
            "_model_module": "@jupyter-widgets/controls",
            "_model_module_version": "1.5.0",
            "_model_name": "ProgressStyleModel",
            "_view_count": null,
            "_view_module": "@jupyter-widgets/base",
            "_view_module_version": "1.2.0",
            "_view_name": "StyleView",
            "bar_color": null,
            "description_width": ""
          }
        },
        "e31dfb8ccc6d44d7a6e2520499b12235": {
          "model_module": "@jupyter-widgets/base",
          "model_name": "LayoutModel",
          "model_module_version": "1.2.0",
          "state": {
            "_model_module": "@jupyter-widgets/base",
            "_model_module_version": "1.2.0",
            "_model_name": "LayoutModel",
            "_view_count": null,
            "_view_module": "@jupyter-widgets/base",
            "_view_module_version": "1.2.0",
            "_view_name": "LayoutView",
            "align_content": null,
            "align_items": null,
            "align_self": null,
            "border": null,
            "bottom": null,
            "display": null,
            "flex": null,
            "flex_flow": null,
            "grid_area": null,
            "grid_auto_columns": null,
            "grid_auto_flow": null,
            "grid_auto_rows": null,
            "grid_column": null,
            "grid_gap": null,
            "grid_row": null,
            "grid_template_areas": null,
            "grid_template_columns": null,
            "grid_template_rows": null,
            "height": null,
            "justify_content": null,
            "justify_items": null,
            "left": null,
            "margin": null,
            "max_height": null,
            "max_width": null,
            "min_height": null,
            "min_width": null,
            "object_fit": null,
            "object_position": null,
            "order": null,
            "overflow": null,
            "overflow_x": null,
            "overflow_y": null,
            "padding": null,
            "right": null,
            "top": null,
            "visibility": null,
            "width": null
          }
        },
        "0129a60963e5457984ac4f192a96124b": {
          "model_module": "@jupyter-widgets/controls",
          "model_name": "DescriptionStyleModel",
          "model_module_version": "1.5.0",
          "state": {
            "_model_module": "@jupyter-widgets/controls",
            "_model_module_version": "1.5.0",
            "_model_name": "DescriptionStyleModel",
            "_view_count": null,
            "_view_module": "@jupyter-widgets/base",
            "_view_module_version": "1.2.0",
            "_view_name": "StyleView",
            "description_width": ""
          }
        },
        "3006ff522fc14c98b41d25e3f73e2f16": {
          "model_module": "@jupyter-widgets/controls",
          "model_name": "HBoxModel",
          "model_module_version": "1.5.0",
          "state": {
            "_dom_classes": [],
            "_model_module": "@jupyter-widgets/controls",
            "_model_module_version": "1.5.0",
            "_model_name": "HBoxModel",
            "_view_count": null,
            "_view_module": "@jupyter-widgets/controls",
            "_view_module_version": "1.5.0",
            "_view_name": "HBoxView",
            "box_style": "",
            "children": [
              "IPY_MODEL_efa7c2cfb334481ca39f6a034612e6c8",
              "IPY_MODEL_542263b9a9e041d3833a4e643b37acb3",
              "IPY_MODEL_7ece56765af04d4a92aa8eac519210f6"
            ],
            "layout": "IPY_MODEL_370a537fd559480bbad1a5e8183231df"
          }
        },
        "efa7c2cfb334481ca39f6a034612e6c8": {
          "model_module": "@jupyter-widgets/controls",
          "model_name": "HTMLModel",
          "model_module_version": "1.5.0",
          "state": {
            "_dom_classes": [],
            "_model_module": "@jupyter-widgets/controls",
            "_model_module_version": "1.5.0",
            "_model_name": "HTMLModel",
            "_view_count": null,
            "_view_module": "@jupyter-widgets/controls",
            "_view_module_version": "1.5.0",
            "_view_name": "HTMLView",
            "description": "",
            "description_tooltip": null,
            "layout": "IPY_MODEL_67b905c733be4ff784e940ae2f4d55ba",
            "placeholder": "​",
            "style": "IPY_MODEL_5d3c1ad294e34bf3a13141a8e1c3df8e",
            "value": ""
          }
        },
        "542263b9a9e041d3833a4e643b37acb3": {
          "model_module": "@jupyter-widgets/controls",
          "model_name": "FloatProgressModel",
          "model_module_version": "1.5.0",
          "state": {
            "_dom_classes": [],
            "_model_module": "@jupyter-widgets/controls",
            "_model_module_version": "1.5.0",
            "_model_name": "FloatProgressModel",
            "_view_count": null,
            "_view_module": "@jupyter-widgets/controls",
            "_view_module_version": "1.5.0",
            "_view_name": "ProgressView",
            "bar_style": "success",
            "description": "",
            "description_tooltip": null,
            "layout": "IPY_MODEL_99682a265a3b486ca015e879648e8c09",
            "max": 1648877,
            "min": 0,
            "orientation": "horizontal",
            "style": "IPY_MODEL_4bdf392825f1453290e188bca2f7ae68",
            "value": 1648877
          }
        },
        "7ece56765af04d4a92aa8eac519210f6": {
          "model_module": "@jupyter-widgets/controls",
          "model_name": "HTMLModel",
          "model_module_version": "1.5.0",
          "state": {
            "_dom_classes": [],
            "_model_module": "@jupyter-widgets/controls",
            "_model_module_version": "1.5.0",
            "_model_name": "HTMLModel",
            "_view_count": null,
            "_view_module": "@jupyter-widgets/controls",
            "_view_module_version": "1.5.0",
            "_view_name": "HTMLView",
            "description": "",
            "description_tooltip": null,
            "layout": "IPY_MODEL_7779b2bb10da49b380d4b5582ea68f2d",
            "placeholder": "​",
            "style": "IPY_MODEL_cdf2b421429c4a629947ee13acfb4271",
            "value": " 1649664/? [00:00&lt;00:00, 24331482.40it/s]"
          }
        },
        "370a537fd559480bbad1a5e8183231df": {
          "model_module": "@jupyter-widgets/base",
          "model_name": "LayoutModel",
          "model_module_version": "1.2.0",
          "state": {
            "_model_module": "@jupyter-widgets/base",
            "_model_module_version": "1.2.0",
            "_model_name": "LayoutModel",
            "_view_count": null,
            "_view_module": "@jupyter-widgets/base",
            "_view_module_version": "1.2.0",
            "_view_name": "LayoutView",
            "align_content": null,
            "align_items": null,
            "align_self": null,
            "border": null,
            "bottom": null,
            "display": null,
            "flex": null,
            "flex_flow": null,
            "grid_area": null,
            "grid_auto_columns": null,
            "grid_auto_flow": null,
            "grid_auto_rows": null,
            "grid_column": null,
            "grid_gap": null,
            "grid_row": null,
            "grid_template_areas": null,
            "grid_template_columns": null,
            "grid_template_rows": null,
            "height": null,
            "justify_content": null,
            "justify_items": null,
            "left": null,
            "margin": null,
            "max_height": null,
            "max_width": null,
            "min_height": null,
            "min_width": null,
            "object_fit": null,
            "object_position": null,
            "order": null,
            "overflow": null,
            "overflow_x": null,
            "overflow_y": null,
            "padding": null,
            "right": null,
            "top": null,
            "visibility": null,
            "width": null
          }
        },
        "67b905c733be4ff784e940ae2f4d55ba": {
          "model_module": "@jupyter-widgets/base",
          "model_name": "LayoutModel",
          "model_module_version": "1.2.0",
          "state": {
            "_model_module": "@jupyter-widgets/base",
            "_model_module_version": "1.2.0",
            "_model_name": "LayoutModel",
            "_view_count": null,
            "_view_module": "@jupyter-widgets/base",
            "_view_module_version": "1.2.0",
            "_view_name": "LayoutView",
            "align_content": null,
            "align_items": null,
            "align_self": null,
            "border": null,
            "bottom": null,
            "display": null,
            "flex": null,
            "flex_flow": null,
            "grid_area": null,
            "grid_auto_columns": null,
            "grid_auto_flow": null,
            "grid_auto_rows": null,
            "grid_column": null,
            "grid_gap": null,
            "grid_row": null,
            "grid_template_areas": null,
            "grid_template_columns": null,
            "grid_template_rows": null,
            "height": null,
            "justify_content": null,
            "justify_items": null,
            "left": null,
            "margin": null,
            "max_height": null,
            "max_width": null,
            "min_height": null,
            "min_width": null,
            "object_fit": null,
            "object_position": null,
            "order": null,
            "overflow": null,
            "overflow_x": null,
            "overflow_y": null,
            "padding": null,
            "right": null,
            "top": null,
            "visibility": null,
            "width": null
          }
        },
        "5d3c1ad294e34bf3a13141a8e1c3df8e": {
          "model_module": "@jupyter-widgets/controls",
          "model_name": "DescriptionStyleModel",
          "model_module_version": "1.5.0",
          "state": {
            "_model_module": "@jupyter-widgets/controls",
            "_model_module_version": "1.5.0",
            "_model_name": "DescriptionStyleModel",
            "_view_count": null,
            "_view_module": "@jupyter-widgets/base",
            "_view_module_version": "1.2.0",
            "_view_name": "StyleView",
            "description_width": ""
          }
        },
        "99682a265a3b486ca015e879648e8c09": {
          "model_module": "@jupyter-widgets/base",
          "model_name": "LayoutModel",
          "model_module_version": "1.2.0",
          "state": {
            "_model_module": "@jupyter-widgets/base",
            "_model_module_version": "1.2.0",
            "_model_name": "LayoutModel",
            "_view_count": null,
            "_view_module": "@jupyter-widgets/base",
            "_view_module_version": "1.2.0",
            "_view_name": "LayoutView",
            "align_content": null,
            "align_items": null,
            "align_self": null,
            "border": null,
            "bottom": null,
            "display": null,
            "flex": null,
            "flex_flow": null,
            "grid_area": null,
            "grid_auto_columns": null,
            "grid_auto_flow": null,
            "grid_auto_rows": null,
            "grid_column": null,
            "grid_gap": null,
            "grid_row": null,
            "grid_template_areas": null,
            "grid_template_columns": null,
            "grid_template_rows": null,
            "height": null,
            "justify_content": null,
            "justify_items": null,
            "left": null,
            "margin": null,
            "max_height": null,
            "max_width": null,
            "min_height": null,
            "min_width": null,
            "object_fit": null,
            "object_position": null,
            "order": null,
            "overflow": null,
            "overflow_x": null,
            "overflow_y": null,
            "padding": null,
            "right": null,
            "top": null,
            "visibility": null,
            "width": null
          }
        },
        "4bdf392825f1453290e188bca2f7ae68": {
          "model_module": "@jupyter-widgets/controls",
          "model_name": "ProgressStyleModel",
          "model_module_version": "1.5.0",
          "state": {
            "_model_module": "@jupyter-widgets/controls",
            "_model_module_version": "1.5.0",
            "_model_name": "ProgressStyleModel",
            "_view_count": null,
            "_view_module": "@jupyter-widgets/base",
            "_view_module_version": "1.2.0",
            "_view_name": "StyleView",
            "bar_color": null,
            "description_width": ""
          }
        },
        "7779b2bb10da49b380d4b5582ea68f2d": {
          "model_module": "@jupyter-widgets/base",
          "model_name": "LayoutModel",
          "model_module_version": "1.2.0",
          "state": {
            "_model_module": "@jupyter-widgets/base",
            "_model_module_version": "1.2.0",
            "_model_name": "LayoutModel",
            "_view_count": null,
            "_view_module": "@jupyter-widgets/base",
            "_view_module_version": "1.2.0",
            "_view_name": "LayoutView",
            "align_content": null,
            "align_items": null,
            "align_self": null,
            "border": null,
            "bottom": null,
            "display": null,
            "flex": null,
            "flex_flow": null,
            "grid_area": null,
            "grid_auto_columns": null,
            "grid_auto_flow": null,
            "grid_auto_rows": null,
            "grid_column": null,
            "grid_gap": null,
            "grid_row": null,
            "grid_template_areas": null,
            "grid_template_columns": null,
            "grid_template_rows": null,
            "height": null,
            "justify_content": null,
            "justify_items": null,
            "left": null,
            "margin": null,
            "max_height": null,
            "max_width": null,
            "min_height": null,
            "min_width": null,
            "object_fit": null,
            "object_position": null,
            "order": null,
            "overflow": null,
            "overflow_x": null,
            "overflow_y": null,
            "padding": null,
            "right": null,
            "top": null,
            "visibility": null,
            "width": null
          }
        },
        "cdf2b421429c4a629947ee13acfb4271": {
          "model_module": "@jupyter-widgets/controls",
          "model_name": "DescriptionStyleModel",
          "model_module_version": "1.5.0",
          "state": {
            "_model_module": "@jupyter-widgets/controls",
            "_model_module_version": "1.5.0",
            "_model_name": "DescriptionStyleModel",
            "_view_count": null,
            "_view_module": "@jupyter-widgets/base",
            "_view_module_version": "1.2.0",
            "_view_name": "StyleView",
            "description_width": ""
          }
        },
        "130c1f8780054220bb68ed5f06906a69": {
          "model_module": "@jupyter-widgets/controls",
          "model_name": "HBoxModel",
          "model_module_version": "1.5.0",
          "state": {
            "_dom_classes": [],
            "_model_module": "@jupyter-widgets/controls",
            "_model_module_version": "1.5.0",
            "_model_name": "HBoxModel",
            "_view_count": null,
            "_view_module": "@jupyter-widgets/controls",
            "_view_module_version": "1.5.0",
            "_view_name": "HBoxView",
            "box_style": "",
            "children": [
              "IPY_MODEL_6d5c315c98d1410a8e14090c1b5b7df8",
              "IPY_MODEL_2fc602f908e1436994ac24b69d36669a",
              "IPY_MODEL_29ee0aa6ac7247b6833e37a54b4d1bb4"
            ],
            "layout": "IPY_MODEL_7d80f78e37f64a01a52f5012e7e58c8b"
          }
        },
        "6d5c315c98d1410a8e14090c1b5b7df8": {
          "model_module": "@jupyter-widgets/controls",
          "model_name": "HTMLModel",
          "model_module_version": "1.5.0",
          "state": {
            "_dom_classes": [],
            "_model_module": "@jupyter-widgets/controls",
            "_model_module_version": "1.5.0",
            "_model_name": "HTMLModel",
            "_view_count": null,
            "_view_module": "@jupyter-widgets/controls",
            "_view_module_version": "1.5.0",
            "_view_name": "HTMLView",
            "description": "",
            "description_tooltip": null,
            "layout": "IPY_MODEL_8b3acff3eef840208c5cef115c57816a",
            "placeholder": "​",
            "style": "IPY_MODEL_eca5255fecdb404ea99088964723a1be",
            "value": ""
          }
        },
        "2fc602f908e1436994ac24b69d36669a": {
          "model_module": "@jupyter-widgets/controls",
          "model_name": "FloatProgressModel",
          "model_module_version": "1.5.0",
          "state": {
            "_dom_classes": [],
            "_model_module": "@jupyter-widgets/controls",
            "_model_module_version": "1.5.0",
            "_model_name": "FloatProgressModel",
            "_view_count": null,
            "_view_module": "@jupyter-widgets/controls",
            "_view_module_version": "1.5.0",
            "_view_name": "ProgressView",
            "bar_style": "success",
            "description": "",
            "description_tooltip": null,
            "layout": "IPY_MODEL_15b115b1e6b0470f9267de87137dbb0e",
            "max": 4542,
            "min": 0,
            "orientation": "horizontal",
            "style": "IPY_MODEL_dac4ae56930f4f0eab3ae52f69ac7b61",
            "value": 4542
          }
        },
        "29ee0aa6ac7247b6833e37a54b4d1bb4": {
          "model_module": "@jupyter-widgets/controls",
          "model_name": "HTMLModel",
          "model_module_version": "1.5.0",
          "state": {
            "_dom_classes": [],
            "_model_module": "@jupyter-widgets/controls",
            "_model_module_version": "1.5.0",
            "_model_name": "HTMLModel",
            "_view_count": null,
            "_view_module": "@jupyter-widgets/controls",
            "_view_module_version": "1.5.0",
            "_view_name": "HTMLView",
            "description": "",
            "description_tooltip": null,
            "layout": "IPY_MODEL_8f0a1019193c4dbc9d6e23e3816b1f13",
            "placeholder": "​",
            "style": "IPY_MODEL_3799ac73e490472c8edb58a5edee0078",
            "value": " 5120/? [00:00&lt;00:00, 159901.98it/s]"
          }
        },
        "7d80f78e37f64a01a52f5012e7e58c8b": {
          "model_module": "@jupyter-widgets/base",
          "model_name": "LayoutModel",
          "model_module_version": "1.2.0",
          "state": {
            "_model_module": "@jupyter-widgets/base",
            "_model_module_version": "1.2.0",
            "_model_name": "LayoutModel",
            "_view_count": null,
            "_view_module": "@jupyter-widgets/base",
            "_view_module_version": "1.2.0",
            "_view_name": "LayoutView",
            "align_content": null,
            "align_items": null,
            "align_self": null,
            "border": null,
            "bottom": null,
            "display": null,
            "flex": null,
            "flex_flow": null,
            "grid_area": null,
            "grid_auto_columns": null,
            "grid_auto_flow": null,
            "grid_auto_rows": null,
            "grid_column": null,
            "grid_gap": null,
            "grid_row": null,
            "grid_template_areas": null,
            "grid_template_columns": null,
            "grid_template_rows": null,
            "height": null,
            "justify_content": null,
            "justify_items": null,
            "left": null,
            "margin": null,
            "max_height": null,
            "max_width": null,
            "min_height": null,
            "min_width": null,
            "object_fit": null,
            "object_position": null,
            "order": null,
            "overflow": null,
            "overflow_x": null,
            "overflow_y": null,
            "padding": null,
            "right": null,
            "top": null,
            "visibility": null,
            "width": null
          }
        },
        "8b3acff3eef840208c5cef115c57816a": {
          "model_module": "@jupyter-widgets/base",
          "model_name": "LayoutModel",
          "model_module_version": "1.2.0",
          "state": {
            "_model_module": "@jupyter-widgets/base",
            "_model_module_version": "1.2.0",
            "_model_name": "LayoutModel",
            "_view_count": null,
            "_view_module": "@jupyter-widgets/base",
            "_view_module_version": "1.2.0",
            "_view_name": "LayoutView",
            "align_content": null,
            "align_items": null,
            "align_self": null,
            "border": null,
            "bottom": null,
            "display": null,
            "flex": null,
            "flex_flow": null,
            "grid_area": null,
            "grid_auto_columns": null,
            "grid_auto_flow": null,
            "grid_auto_rows": null,
            "grid_column": null,
            "grid_gap": null,
            "grid_row": null,
            "grid_template_areas": null,
            "grid_template_columns": null,
            "grid_template_rows": null,
            "height": null,
            "justify_content": null,
            "justify_items": null,
            "left": null,
            "margin": null,
            "max_height": null,
            "max_width": null,
            "min_height": null,
            "min_width": null,
            "object_fit": null,
            "object_position": null,
            "order": null,
            "overflow": null,
            "overflow_x": null,
            "overflow_y": null,
            "padding": null,
            "right": null,
            "top": null,
            "visibility": null,
            "width": null
          }
        },
        "eca5255fecdb404ea99088964723a1be": {
          "model_module": "@jupyter-widgets/controls",
          "model_name": "DescriptionStyleModel",
          "model_module_version": "1.5.0",
          "state": {
            "_model_module": "@jupyter-widgets/controls",
            "_model_module_version": "1.5.0",
            "_model_name": "DescriptionStyleModel",
            "_view_count": null,
            "_view_module": "@jupyter-widgets/base",
            "_view_module_version": "1.2.0",
            "_view_name": "StyleView",
            "description_width": ""
          }
        },
        "15b115b1e6b0470f9267de87137dbb0e": {
          "model_module": "@jupyter-widgets/base",
          "model_name": "LayoutModel",
          "model_module_version": "1.2.0",
          "state": {
            "_model_module": "@jupyter-widgets/base",
            "_model_module_version": "1.2.0",
            "_model_name": "LayoutModel",
            "_view_count": null,
            "_view_module": "@jupyter-widgets/base",
            "_view_module_version": "1.2.0",
            "_view_name": "LayoutView",
            "align_content": null,
            "align_items": null,
            "align_self": null,
            "border": null,
            "bottom": null,
            "display": null,
            "flex": null,
            "flex_flow": null,
            "grid_area": null,
            "grid_auto_columns": null,
            "grid_auto_flow": null,
            "grid_auto_rows": null,
            "grid_column": null,
            "grid_gap": null,
            "grid_row": null,
            "grid_template_areas": null,
            "grid_template_columns": null,
            "grid_template_rows": null,
            "height": null,
            "justify_content": null,
            "justify_items": null,
            "left": null,
            "margin": null,
            "max_height": null,
            "max_width": null,
            "min_height": null,
            "min_width": null,
            "object_fit": null,
            "object_position": null,
            "order": null,
            "overflow": null,
            "overflow_x": null,
            "overflow_y": null,
            "padding": null,
            "right": null,
            "top": null,
            "visibility": null,
            "width": null
          }
        },
        "dac4ae56930f4f0eab3ae52f69ac7b61": {
          "model_module": "@jupyter-widgets/controls",
          "model_name": "ProgressStyleModel",
          "model_module_version": "1.5.0",
          "state": {
            "_model_module": "@jupyter-widgets/controls",
            "_model_module_version": "1.5.0",
            "_model_name": "ProgressStyleModel",
            "_view_count": null,
            "_view_module": "@jupyter-widgets/base",
            "_view_module_version": "1.2.0",
            "_view_name": "StyleView",
            "bar_color": null,
            "description_width": ""
          }
        },
        "8f0a1019193c4dbc9d6e23e3816b1f13": {
          "model_module": "@jupyter-widgets/base",
          "model_name": "LayoutModel",
          "model_module_version": "1.2.0",
          "state": {
            "_model_module": "@jupyter-widgets/base",
            "_model_module_version": "1.2.0",
            "_model_name": "LayoutModel",
            "_view_count": null,
            "_view_module": "@jupyter-widgets/base",
            "_view_module_version": "1.2.0",
            "_view_name": "LayoutView",
            "align_content": null,
            "align_items": null,
            "align_self": null,
            "border": null,
            "bottom": null,
            "display": null,
            "flex": null,
            "flex_flow": null,
            "grid_area": null,
            "grid_auto_columns": null,
            "grid_auto_flow": null,
            "grid_auto_rows": null,
            "grid_column": null,
            "grid_gap": null,
            "grid_row": null,
            "grid_template_areas": null,
            "grid_template_columns": null,
            "grid_template_rows": null,
            "height": null,
            "justify_content": null,
            "justify_items": null,
            "left": null,
            "margin": null,
            "max_height": null,
            "max_width": null,
            "min_height": null,
            "min_width": null,
            "object_fit": null,
            "object_position": null,
            "order": null,
            "overflow": null,
            "overflow_x": null,
            "overflow_y": null,
            "padding": null,
            "right": null,
            "top": null,
            "visibility": null,
            "width": null
          }
        },
        "3799ac73e490472c8edb58a5edee0078": {
          "model_module": "@jupyter-widgets/controls",
          "model_name": "DescriptionStyleModel",
          "model_module_version": "1.5.0",
          "state": {
            "_model_module": "@jupyter-widgets/controls",
            "_model_module_version": "1.5.0",
            "_model_name": "DescriptionStyleModel",
            "_view_count": null,
            "_view_module": "@jupyter-widgets/base",
            "_view_module_version": "1.2.0",
            "_view_name": "StyleView",
            "description_width": ""
          }
        }
      }
    }
  },
  "nbformat_minor": 0,
  "nbformat": 4,
  "cells": [
    {
      "cell_type": "markdown",
      "source": [
        "# 라이브러리 추가"
      ],
      "metadata": {
        "id": "EsnAHY8-3Rsk"
      }
    },
    {
      "cell_type": "code",
      "source": [
        "!pip install torchsummary\n",
        "from copy import deepcopy\n",
        "from IPython.display import display\n",
        "\n",
        "import torch\n",
        "import torch.nn as nn\n",
        "import torch.optim as optim\n",
        "import torch.nn.init as init\n",
        "import torch.nn.functional as F\n",
        "\n",
        "import torchvision.datasets as datasets\n",
        "import torchvision.transforms as transforms\n",
        "from torchsummary import summary as summary_\n",
        "\n",
        "from torch.utils.data import DataLoader\n",
        "\n",
        "import numpy as np\n",
        "import pandas as pd\n",
        "import matplotlib.pyplot as plt"
      ],
      "metadata": {
        "id": "5W1GLUpvBMGc",
        "execution": {
          "iopub.status.busy": "2022-04-19T02:26:22.861782Z",
          "iopub.execute_input": "2022-04-19T02:26:22.862227Z",
          "iopub.status.idle": "2022-04-19T02:26:31.828088Z",
          "shell.execute_reply.started": "2022-04-19T02:26:22.862181Z",
          "shell.execute_reply": "2022-04-19T02:26:31.827241Z"
        },
        "trusted": true,
        "colab": {
          "base_uri": "https://localhost:8080/"
        },
        "outputId": "77b7960d-67f1-4be9-e07a-af33186d10de"
      },
      "execution_count": 1,
      "outputs": [
        {
          "output_type": "stream",
          "name": "stdout",
          "text": [
            "Requirement already satisfied: torchsummary in /usr/local/lib/python3.7/dist-packages (1.5.1)\n"
          ]
        }
      ]
    },
    {
      "cell_type": "markdown",
      "source": [
        "# 데이터 로드"
      ],
      "metadata": {
        "id": "RGWyAZ_U3Vwu"
      }
    },
    {
      "cell_type": "code",
      "source": [
        "train = datasets.MNIST(root=\"~/\", train=True, transform=transforms.ToTensor(), target_transform=None, download=True)\n",
        "test  = datasets.MNIST(root=\"~/\", train=False, transform=transforms.ToTensor(), target_transform=None, download=True)"
      ],
      "metadata": {
        "id": "JdM7krVhBp-V",
        "outputId": "1c47339d-3330-4a46-f7bd-605b3aa0be32",
        "execution": {
          "iopub.status.busy": "2022-04-19T01:15:05.869592Z",
          "iopub.execute_input": "2022-04-19T01:15:05.869864Z",
          "iopub.status.idle": "2022-04-19T01:15:05.907179Z",
          "shell.execute_reply.started": "2022-04-19T01:15:05.869831Z",
          "shell.execute_reply": "2022-04-19T01:15:05.906445Z"
        },
        "trusted": true,
        "colab": {
          "base_uri": "https://localhost:8080/",
          "height": 451,
          "referenced_widgets": [
            "c887741d9efd4a5eb8aeebebe3fedc54",
            "a1c693d71e2947cb9721fc29f9869b48",
            "550310e4de654d4ca6f8db0e5d407ac3",
            "c8561b817b594566937b68e727bcec7d",
            "6b513c971e534d3aa0c829d972a50bcc",
            "3f633ab6a94f427d8e8bb8d876204a90",
            "e82efb4114c14773ab9f094e93059777",
            "44c6a018e28d4901a50ea3b9982c14f4",
            "bb0e8d9560724f56acb2c1c669ae4110",
            "466c509e6c0649b1978b9982ca17ea5b",
            "e05f9858ad6d43788653dc25bb03e91e",
            "c9f3e04241094e478c332b82d6ca7c59",
            "74e044a896f540e99f96b329b0fd1019",
            "e408afd592f04fa7ad45f54ef4be4d1f",
            "284a56c360a2417b80288a2989ec878e",
            "d3cbdd1ab286429194146a7d3eb85066",
            "285561a4952d4803859a03e4e0b638a2",
            "9dcd0c2b1e8646e28c365cc88afd52e1",
            "0d4c0258520a478683bbbbc602ffc166",
            "a582ae63acc44d5486ebfabbeb50789c",
            "e31dfb8ccc6d44d7a6e2520499b12235",
            "0129a60963e5457984ac4f192a96124b",
            "3006ff522fc14c98b41d25e3f73e2f16",
            "efa7c2cfb334481ca39f6a034612e6c8",
            "542263b9a9e041d3833a4e643b37acb3",
            "7ece56765af04d4a92aa8eac519210f6",
            "370a537fd559480bbad1a5e8183231df",
            "67b905c733be4ff784e940ae2f4d55ba",
            "5d3c1ad294e34bf3a13141a8e1c3df8e",
            "99682a265a3b486ca015e879648e8c09",
            "4bdf392825f1453290e188bca2f7ae68",
            "7779b2bb10da49b380d4b5582ea68f2d",
            "cdf2b421429c4a629947ee13acfb4271",
            "130c1f8780054220bb68ed5f06906a69",
            "6d5c315c98d1410a8e14090c1b5b7df8",
            "2fc602f908e1436994ac24b69d36669a",
            "29ee0aa6ac7247b6833e37a54b4d1bb4",
            "7d80f78e37f64a01a52f5012e7e58c8b",
            "8b3acff3eef840208c5cef115c57816a",
            "eca5255fecdb404ea99088964723a1be",
            "15b115b1e6b0470f9267de87137dbb0e",
            "dac4ae56930f4f0eab3ae52f69ac7b61",
            "8f0a1019193c4dbc9d6e23e3816b1f13",
            "3799ac73e490472c8edb58a5edee0078"
          ]
        }
      },
      "execution_count": 2,
      "outputs": [
        {
          "output_type": "stream",
          "name": "stdout",
          "text": [
            "Downloading http://yann.lecun.com/exdb/mnist/train-images-idx3-ubyte.gz\n",
            "Downloading http://yann.lecun.com/exdb/mnist/train-images-idx3-ubyte.gz to /root/MNIST/raw/train-images-idx3-ubyte.gz\n"
          ]
        },
        {
          "output_type": "display_data",
          "data": {
            "text/plain": [
              "  0%|          | 0/9912422 [00:00<?, ?it/s]"
            ],
            "application/vnd.jupyter.widget-view+json": {
              "version_major": 2,
              "version_minor": 0,
              "model_id": "c887741d9efd4a5eb8aeebebe3fedc54"
            }
          },
          "metadata": {}
        },
        {
          "output_type": "stream",
          "name": "stdout",
          "text": [
            "Extracting /root/MNIST/raw/train-images-idx3-ubyte.gz to /root/MNIST/raw\n",
            "\n",
            "Downloading http://yann.lecun.com/exdb/mnist/train-labels-idx1-ubyte.gz\n",
            "Downloading http://yann.lecun.com/exdb/mnist/train-labels-idx1-ubyte.gz to /root/MNIST/raw/train-labels-idx1-ubyte.gz\n"
          ]
        },
        {
          "output_type": "display_data",
          "data": {
            "text/plain": [
              "  0%|          | 0/28881 [00:00<?, ?it/s]"
            ],
            "application/vnd.jupyter.widget-view+json": {
              "version_major": 2,
              "version_minor": 0,
              "model_id": "c9f3e04241094e478c332b82d6ca7c59"
            }
          },
          "metadata": {}
        },
        {
          "output_type": "stream",
          "name": "stdout",
          "text": [
            "Extracting /root/MNIST/raw/train-labels-idx1-ubyte.gz to /root/MNIST/raw\n",
            "\n",
            "Downloading http://yann.lecun.com/exdb/mnist/t10k-images-idx3-ubyte.gz\n",
            "Downloading http://yann.lecun.com/exdb/mnist/t10k-images-idx3-ubyte.gz to /root/MNIST/raw/t10k-images-idx3-ubyte.gz\n"
          ]
        },
        {
          "output_type": "display_data",
          "data": {
            "text/plain": [
              "  0%|          | 0/1648877 [00:00<?, ?it/s]"
            ],
            "application/vnd.jupyter.widget-view+json": {
              "version_major": 2,
              "version_minor": 0,
              "model_id": "3006ff522fc14c98b41d25e3f73e2f16"
            }
          },
          "metadata": {}
        },
        {
          "output_type": "stream",
          "name": "stdout",
          "text": [
            "Extracting /root/MNIST/raw/t10k-images-idx3-ubyte.gz to /root/MNIST/raw\n",
            "\n",
            "Downloading http://yann.lecun.com/exdb/mnist/t10k-labels-idx1-ubyte.gz\n",
            "Downloading http://yann.lecun.com/exdb/mnist/t10k-labels-idx1-ubyte.gz to /root/MNIST/raw/t10k-labels-idx1-ubyte.gz\n"
          ]
        },
        {
          "output_type": "display_data",
          "data": {
            "text/plain": [
              "  0%|          | 0/4542 [00:00<?, ?it/s]"
            ],
            "application/vnd.jupyter.widget-view+json": {
              "version_major": 2,
              "version_minor": 0,
              "model_id": "130c1f8780054220bb68ed5f06906a69"
            }
          },
          "metadata": {}
        },
        {
          "output_type": "stream",
          "name": "stdout",
          "text": [
            "Extracting /root/MNIST/raw/t10k-labels-idx1-ubyte.gz to /root/MNIST/raw\n",
            "\n"
          ]
        }
      ]
    },
    {
      "cell_type": "code",
      "source": [
        "def generate_dataloader(batch_size=100) :\n",
        "    train_dataloader = DataLoader(train, batch_size=batch_size, shuffle=True, drop_last=True)\n",
        "    test_dataloader  = DataLoader(test, batch_size=batch_size, shuffle=True, drop_last=True)\n",
        "    return train_dataloader, test_dataloader\n",
        "\n",
        "train_dloader, test_dloader = generate_dataloader()"
      ],
      "metadata": {
        "id": "G0pmn4PICEtq",
        "execution": {
          "iopub.status.busy": "2022-04-19T01:15:06.060738Z",
          "iopub.execute_input": "2022-04-19T01:15:06.060962Z",
          "iopub.status.idle": "2022-04-19T01:15:06.066418Z",
          "shell.execute_reply.started": "2022-04-19T01:15:06.060933Z",
          "shell.execute_reply": "2022-04-19T01:15:06.065467Z"
        },
        "trusted": true
      },
      "execution_count": 3,
      "outputs": []
    },
    {
      "cell_type": "markdown",
      "source": [
        "# 모델 구성"
      ],
      "metadata": {
        "id": "LCuasGoc3b2u"
      }
    },
    {
      "cell_type": "code",
      "source": [
        "class CustomCNNModel1(nn.Module) :\n",
        "    def __init__(self) :\n",
        "        super(CustomCNNModel1, self).__init__()\n",
        "        \n",
        "        self.layer = nn.Sequential(\n",
        "            # 32 * 28 * 28\n",
        "            nn.Conv2d(1, 32, kernel_size=3, stride=1, padding=1),\n",
        "            nn.ReLU(),\n",
        "\n",
        "            # 64 * 28 * 28\n",
        "            nn.Conv2d(32, 64, kernel_size=3, stride=1, padding=1),\n",
        "            nn.ReLU(),\n",
        "\n",
        "            # 64 * 14 * 14\n",
        "            nn.MaxPool2d(kernel_size=2, stride=2)\n",
        "        )\n",
        "\n",
        "        self.fcLayer = nn.Sequential(\n",
        "            nn.Linear(14 * 14 * 64, 64),\n",
        "            nn.ReLU(),\n",
        "            nn.Linear(64, 10)\n",
        "        )\n",
        "\n",
        "    def forward(self, x) :\n",
        "        output = self.layer(x)\n",
        "        output = output.view(output.size(0), -1)\n",
        "        output = self.fcLayer(output)\n",
        "        output = F.log_softmax(output, dim=1)\n",
        "        return output\n",
        "\n",
        "class CustomCNNModel2(nn.Module) :\n",
        "    def __init__(self) :\n",
        "        super(CustomCNNModel2, self).__init__()\n",
        "        \n",
        "        self.layer = nn.Sequential(\n",
        "            # 8 * 28 * 28\n",
        "            nn.Conv2d(1, 8, kernel_size=3, stride=1, padding=1),\n",
        "            nn.ReLU(),\n",
        "\n",
        "            # 16 * 28 * 28\n",
        "            nn.Conv2d(8, 16, kernel_size=3, stride=1, padding=1),\n",
        "            nn.ReLU(),\n",
        "            # 16 * 14 * 14\n",
        "            nn.MaxPool2d(kernel_size=2, stride=2),\n",
        "            \n",
        "            # 32 * 14 * 14\n",
        "            nn.Conv2d(16, 32, kernel_size=3, stride=1, padding=1),\n",
        "            nn.ReLU(),\n",
        "\n",
        "            # 64 * 14 * 14\n",
        "            nn.Conv2d(32, 64, kernel_size=3, stride=1, padding=1),\n",
        "            nn.ReLU(),\n",
        "\n",
        "            # 64 * 7 * 7\n",
        "            nn.MaxPool2d(kernel_size=2, stride=2)\n",
        "        )\n",
        "\n",
        "        self.fcLayer = nn.Sequential(\n",
        "            nn.Linear(7 * 7 * 64, 64),\n",
        "            nn.ReLU(),\n",
        "            nn.Linear(64, 10)\n",
        "        )\n",
        "\n",
        "    def forward(self, x) :\n",
        "        output = self.layer(x)\n",
        "        output = output.view(output.size(0), -1)\n",
        "        output = self.fcLayer(output)\n",
        "        output = F.log_softmax(output, dim=1)\n",
        "        return output\n",
        "\n",
        "class CustomCNNModel3(nn.Module) :\n",
        "    def __init__(self) :\n",
        "        super(CustomCNNModel3, self).__init__()\n",
        "        \n",
        "        self.layer = nn.Sequential(\n",
        "            nn.Conv2d(1, 32, kernel_size=3, stride=1, padding=1),\n",
        "            nn.ReLU()\n",
        "        )\n",
        "\n",
        "        self.residual_block = nn.Sequential(\n",
        "            nn.Conv2d(32, 32, kernel_size=3, stride=1, padding=1),\n",
        "            nn.ReLU(),\n",
        "            nn.Conv2d(32, 32, kernel_size=3, stride=1, padding=1)\n",
        "        )\n",
        "\n",
        "        self.mpLayer = nn.MaxPool2d(kernel_size=2, stride=2)\n",
        "        \n",
        "        self.relu    = nn.ReLU()\n",
        "\n",
        "        self.fcLayer = nn.Sequential(\n",
        "            nn.Linear(14 * 14 * 32, 64),\n",
        "            nn.ReLU(),\n",
        "            nn.Linear(64, 10)\n",
        "        )\n",
        "\n",
        "    def forward(self, x) :\n",
        "        # 32 * 28 * 28\n",
        "        output = self.layer(x)\n",
        "        \n",
        "        # 32 * 28 * 28\n",
        "        first_residual_block_input = output\n",
        "        output = self.residual_block(output)\n",
        "        output = output + first_residual_block_input\n",
        "        output = self.relu(output)\n",
        "\n",
        "        # 32 * 28 * 28\n",
        "        second_residual_block_input = output\n",
        "        output = self.residual_block(output)\n",
        "        output = output + second_residual_block_input\n",
        "        output = self.relu(output)\n",
        "\n",
        "        # 32 * 14 * 14\n",
        "        output = self.mpLayer(output)\n",
        "\n",
        "        output = output.view(output.size(0), -1)\n",
        "        output = self.fcLayer(output)\n",
        "        output = F.log_softmax(output, dim=1)\n",
        "        return output"
      ],
      "metadata": {
        "id": "ZXJ2N7G8Cs2U",
        "execution": {
          "iopub.status.busy": "2022-04-19T01:15:06.42103Z",
          "iopub.execute_input": "2022-04-19T01:15:06.421484Z",
          "iopub.status.idle": "2022-04-19T01:15:06.444599Z",
          "shell.execute_reply.started": "2022-04-19T01:15:06.421451Z",
          "shell.execute_reply": "2022-04-19T01:15:06.44386Z"
        },
        "trusted": true
      },
      "execution_count": 4,
      "outputs": []
    },
    {
      "cell_type": "code",
      "source": [
        "device = torch.device(\"cuda:0\" if torch.cuda.is_available() else \"cpu\")"
      ],
      "metadata": {
        "id": "vQF3bZDfFvsU",
        "execution": {
          "iopub.status.busy": "2022-04-19T01:15:06.589702Z",
          "iopub.execute_input": "2022-04-19T01:15:06.590022Z",
          "iopub.status.idle": "2022-04-19T01:15:06.594072Z",
          "shell.execute_reply.started": "2022-04-19T01:15:06.589993Z",
          "shell.execute_reply": "2022-04-19T01:15:06.593361Z"
        },
        "trusted": true
      },
      "execution_count": 5,
      "outputs": []
    },
    {
      "cell_type": "code",
      "source": [
        "model1 = CustomCNNModel1().to(device)\n",
        "model2 = CustomCNNModel2().to(device)\n",
        "model3 = CustomCNNModel3().to(device)"
      ],
      "metadata": {
        "id": "kL7IjDu1CuJV",
        "execution": {
          "iopub.status.busy": "2022-04-19T01:15:06.757538Z",
          "iopub.execute_input": "2022-04-19T01:15:06.757827Z",
          "iopub.status.idle": "2022-04-19T01:15:06.780976Z",
          "shell.execute_reply.started": "2022-04-19T01:15:06.757797Z",
          "shell.execute_reply": "2022-04-19T01:15:06.780364Z"
        },
        "trusted": true
      },
      "execution_count": 6,
      "outputs": []
    },
    {
      "cell_type": "markdown",
      "source": [
        "# Cost 함수 및 Optimizer 셋팅"
      ],
      "metadata": {
        "id": "QQ61Sdh43h7W"
      }
    },
    {
      "cell_type": "code",
      "source": [
        "loss_func1 = nn.NLLLoss()\n",
        "optimizer1 = optim.Adam(model1.parameters())\n",
        "\n",
        "loss_func2 = nn.NLLLoss()\n",
        "optimizer2 = optim.Adam(model2.parameters())\n",
        "\n",
        "loss_func3 = nn.NLLLoss()\n",
        "optimizer3 = optim.Adam(model3.parameters())"
      ],
      "metadata": {
        "id": "GxilHxCOFxtx",
        "execution": {
          "iopub.status.busy": "2022-04-19T01:15:07.091537Z",
          "iopub.execute_input": "2022-04-19T01:15:07.09181Z",
          "iopub.status.idle": "2022-04-19T01:15:07.097766Z",
          "shell.execute_reply.started": "2022-04-19T01:15:07.091779Z",
          "shell.execute_reply": "2022-04-19T01:15:07.096773Z"
        },
        "trusted": true
      },
      "execution_count": 7,
      "outputs": []
    },
    {
      "cell_type": "markdown",
      "source": [
        "# 모델 Layer Summary"
      ],
      "metadata": {
        "id": "Aw8KmyWr3nG9"
      }
    },
    {
      "cell_type": "markdown",
      "source": [
        "## Model1"
      ],
      "metadata": {
        "id": "lJMO7hlT4mfH"
      }
    },
    {
      "cell_type": "code",
      "source": [
        "summary_(model1, (1, 28, 28), batch_size=100)"
      ],
      "metadata": {
        "id": "kWJHUkkn1Y8W",
        "outputId": "43b8ef3d-b504-46fd-adfc-a9c8aa6bd496",
        "execution": {
          "iopub.status.busy": "2022-04-19T01:15:07.940299Z",
          "iopub.execute_input": "2022-04-19T01:15:07.940916Z",
          "iopub.status.idle": "2022-04-19T01:15:07.958556Z",
          "shell.execute_reply.started": "2022-04-19T01:15:07.940881Z",
          "shell.execute_reply": "2022-04-19T01:15:07.957435Z"
        },
        "trusted": true,
        "colab": {
          "base_uri": "https://localhost:8080/"
        }
      },
      "execution_count": 8,
      "outputs": [
        {
          "output_type": "stream",
          "name": "stdout",
          "text": [
            "----------------------------------------------------------------\n",
            "        Layer (type)               Output Shape         Param #\n",
            "================================================================\n",
            "            Conv2d-1          [100, 32, 28, 28]             320\n",
            "              ReLU-2          [100, 32, 28, 28]               0\n",
            "            Conv2d-3          [100, 64, 28, 28]          18,496\n",
            "              ReLU-4          [100, 64, 28, 28]               0\n",
            "         MaxPool2d-5          [100, 64, 14, 14]               0\n",
            "            Linear-6                  [100, 64]         802,880\n",
            "              ReLU-7                  [100, 64]               0\n",
            "            Linear-8                  [100, 10]             650\n",
            "================================================================\n",
            "Total params: 822,346\n",
            "Trainable params: 822,346\n",
            "Non-trainable params: 0\n",
            "----------------------------------------------------------------\n",
            "Input size (MB): 0.30\n",
            "Forward/backward pass size (MB): 124.52\n",
            "Params size (MB): 3.14\n",
            "Estimated Total Size (MB): 127.96\n",
            "----------------------------------------------------------------\n"
          ]
        }
      ]
    },
    {
      "cell_type": "markdown",
      "source": [
        "## Model2"
      ],
      "metadata": {
        "id": "fdRrhb-Z4okq"
      }
    },
    {
      "cell_type": "code",
      "source": [
        "summary_(model2, (1, 28, 28), batch_size=100)"
      ],
      "metadata": {
        "id": "srD0xDC91oUu",
        "outputId": "00486d8f-9034-47ef-ee11-a4e52264d3d3",
        "execution": {
          "iopub.status.busy": "2022-04-19T01:15:08.364302Z",
          "iopub.execute_input": "2022-04-19T01:15:08.36472Z",
          "iopub.status.idle": "2022-04-19T01:15:08.38133Z",
          "shell.execute_reply.started": "2022-04-19T01:15:08.364683Z",
          "shell.execute_reply": "2022-04-19T01:15:08.380657Z"
        },
        "trusted": true,
        "colab": {
          "base_uri": "https://localhost:8080/"
        }
      },
      "execution_count": 9,
      "outputs": [
        {
          "output_type": "stream",
          "name": "stdout",
          "text": [
            "----------------------------------------------------------------\n",
            "        Layer (type)               Output Shape         Param #\n",
            "================================================================\n",
            "            Conv2d-1           [100, 8, 28, 28]              80\n",
            "              ReLU-2           [100, 8, 28, 28]               0\n",
            "            Conv2d-3          [100, 16, 28, 28]           1,168\n",
            "              ReLU-4          [100, 16, 28, 28]               0\n",
            "         MaxPool2d-5          [100, 16, 14, 14]               0\n",
            "            Conv2d-6          [100, 32, 14, 14]           4,640\n",
            "              ReLU-7          [100, 32, 14, 14]               0\n",
            "            Conv2d-8          [100, 64, 14, 14]          18,496\n",
            "              ReLU-9          [100, 64, 14, 14]               0\n",
            "        MaxPool2d-10            [100, 64, 7, 7]               0\n",
            "           Linear-11                  [100, 64]         200,768\n",
            "             ReLU-12                  [100, 64]               0\n",
            "           Linear-13                  [100, 10]             650\n",
            "================================================================\n",
            "Total params: 225,802\n",
            "Trainable params: 225,802\n",
            "Non-trainable params: 0\n",
            "----------------------------------------------------------------\n",
            "Input size (MB): 0.30\n",
            "Forward/backward pass size (MB): 62.31\n",
            "Params size (MB): 0.86\n",
            "Estimated Total Size (MB): 63.47\n",
            "----------------------------------------------------------------\n"
          ]
        }
      ]
    },
    {
      "cell_type": "markdown",
      "source": [
        "## Model3"
      ],
      "metadata": {
        "id": "2Gn4w_ev4qTa"
      }
    },
    {
      "cell_type": "code",
      "source": [
        "summary_(model3, (1, 28, 28), batch_size=100)"
      ],
      "metadata": {
        "id": "0c1bXHIK1uQq",
        "outputId": "b22cb3cb-a580-4167-dac7-e211787b709f",
        "execution": {
          "iopub.status.busy": "2022-04-19T01:15:09.592773Z",
          "iopub.execute_input": "2022-04-19T01:15:09.593443Z",
          "iopub.status.idle": "2022-04-19T01:15:09.608028Z",
          "shell.execute_reply.started": "2022-04-19T01:15:09.593401Z",
          "shell.execute_reply": "2022-04-19T01:15:09.607337Z"
        },
        "trusted": true,
        "colab": {
          "base_uri": "https://localhost:8080/"
        }
      },
      "execution_count": 10,
      "outputs": [
        {
          "output_type": "stream",
          "name": "stdout",
          "text": [
            "----------------------------------------------------------------\n",
            "        Layer (type)               Output Shape         Param #\n",
            "================================================================\n",
            "            Conv2d-1          [100, 32, 28, 28]             320\n",
            "              ReLU-2          [100, 32, 28, 28]               0\n",
            "            Conv2d-3          [100, 32, 28, 28]           9,248\n",
            "              ReLU-4          [100, 32, 28, 28]               0\n",
            "            Conv2d-5          [100, 32, 28, 28]           9,248\n",
            "              ReLU-6          [100, 32, 28, 28]               0\n",
            "            Conv2d-7          [100, 32, 28, 28]           9,248\n",
            "              ReLU-8          [100, 32, 28, 28]               0\n",
            "            Conv2d-9          [100, 32, 28, 28]           9,248\n",
            "             ReLU-10          [100, 32, 28, 28]               0\n",
            "        MaxPool2d-11          [100, 32, 14, 14]               0\n",
            "           Linear-12                  [100, 64]         401,472\n",
            "             ReLU-13                  [100, 64]               0\n",
            "           Linear-14                  [100, 10]             650\n",
            "================================================================\n",
            "Total params: 439,434\n",
            "Trainable params: 439,434\n",
            "Non-trainable params: 0\n",
            "----------------------------------------------------------------\n",
            "Input size (MB): 0.30\n",
            "Forward/backward pass size (MB): 196.30\n",
            "Params size (MB): 1.68\n",
            "Estimated Total Size (MB): 198.27\n",
            "----------------------------------------------------------------\n"
          ]
        }
      ]
    },
    {
      "cell_type": "markdown",
      "source": [
        "# Model Training & Test Part"
      ],
      "metadata": {
        "id": "wBR5ItjJ4t-O"
      }
    },
    {
      "cell_type": "markdown",
      "source": [
        "## Model1 Training & Test"
      ],
      "metadata": {
        "id": "NFwiEK1m3ttu"
      }
    },
    {
      "cell_type": "code",
      "source": [
        "model1_cost = []\n",
        "model1_acc = []\n",
        "\n",
        "best_acc1 = 0.0\n",
        "best_model1 = deepcopy(model1.state_dict())\n",
        "\n",
        "for epoch in range(30) :\n",
        "    avg_cost = 0\n",
        "\n",
        "    model1.train()\n",
        "    for x, y in train_dloader :\n",
        "        x = x.to(device)\n",
        "        y = y.to(device)\n",
        "\n",
        "        optimizer1.zero_grad()\n",
        "        output = model1(x)\n",
        "\n",
        "        loss = loss_func1(output, y)\n",
        "        loss.backward()\n",
        "        optimizer1.step()\n",
        "\n",
        "        avg_cost += loss.item()\n",
        "    \n",
        "    model1.eval()\n",
        "    correct = 0\n",
        "    with torch.no_grad() :\n",
        "        for x, y in test_dloader :\n",
        "            x = x.to(device)\n",
        "            y = y.to(device)\n",
        "            output = model1(x)\n",
        "            pred = output.argmax(dim=1, keepdim=True)\n",
        "            correct += pred.eq(y.view_as(pred)).sum().item()\n",
        "    \n",
        "    acc =  float(correct) / len(test_dloader.dataset)\n",
        "    \n",
        "    model1_cost.append(avg_cost / 600)\n",
        "    model1_acc.append(acc)\n",
        "\n",
        "    if acc * 100.0 > best_acc1 :\n",
        "        best_acc1 = acc * 100.0\n",
        "        best_model1 = deepcopy(model1.state_dict())\n",
        "        \n",
        "    print('Model1 => [Epoch: {:>4}] loss : {:>.7f} val_accuracy : {}/{} ({:>.4f}%)'.format(epoch + 1, avg_cost / 600, correct, len(test_dloader.dataset), acc * 100.))"
      ],
      "metadata": {
        "id": "E55MqQ5OGBzh",
        "outputId": "0a104e20-4794-4c03-b1da-9fd0796446af",
        "execution": {
          "iopub.status.busy": "2022-04-19T01:15:22.158462Z",
          "iopub.execute_input": "2022-04-19T01:15:22.158728Z",
          "iopub.status.idle": "2022-04-19T01:19:22.82215Z",
          "shell.execute_reply.started": "2022-04-19T01:15:22.158697Z",
          "shell.execute_reply": "2022-04-19T01:19:22.820477Z"
        },
        "trusted": true,
        "colab": {
          "base_uri": "https://localhost:8080/"
        }
      },
      "execution_count": 11,
      "outputs": [
        {
          "output_type": "stream",
          "name": "stdout",
          "text": [
            "Model1 => [Epoch:    1] loss : 0.1957386 val_accuracy : 9705/10000 (97.0500%)\n",
            "Model1 => [Epoch:    2] loss : 0.0519459 val_accuracy : 9847/10000 (98.4700%)\n",
            "Model1 => [Epoch:    3] loss : 0.0343013 val_accuracy : 9857/10000 (98.5700%)\n",
            "Model1 => [Epoch:    4] loss : 0.0226746 val_accuracy : 9886/10000 (98.8600%)\n",
            "Model1 => [Epoch:    5] loss : 0.0181891 val_accuracy : 9881/10000 (98.8100%)\n",
            "Model1 => [Epoch:    6] loss : 0.0132381 val_accuracy : 9891/10000 (98.9100%)\n",
            "Model1 => [Epoch:    7] loss : 0.0098031 val_accuracy : 9880/10000 (98.8000%)\n",
            "Model1 => [Epoch:    8] loss : 0.0087944 val_accuracy : 9872/10000 (98.7200%)\n",
            "Model1 => [Epoch:    9] loss : 0.0085750 val_accuracy : 9880/10000 (98.8000%)\n",
            "Model1 => [Epoch:   10] loss : 0.0072407 val_accuracy : 9898/10000 (98.9800%)\n",
            "Model1 => [Epoch:   11] loss : 0.0052919 val_accuracy : 9880/10000 (98.8000%)\n",
            "Model1 => [Epoch:   12] loss : 0.0070840 val_accuracy : 9892/10000 (98.9200%)\n",
            "Model1 => [Epoch:   13] loss : 0.0028314 val_accuracy : 9879/10000 (98.7900%)\n",
            "Model1 => [Epoch:   14] loss : 0.0038322 val_accuracy : 9877/10000 (98.7700%)\n",
            "Model1 => [Epoch:   15] loss : 0.0048698 val_accuracy : 9896/10000 (98.9600%)\n",
            "Model1 => [Epoch:   16] loss : 0.0033144 val_accuracy : 9870/10000 (98.7000%)\n",
            "Model1 => [Epoch:   17] loss : 0.0030424 val_accuracy : 9876/10000 (98.7600%)\n",
            "Model1 => [Epoch:   18] loss : 0.0038156 val_accuracy : 9892/10000 (98.9200%)\n",
            "Model1 => [Epoch:   19] loss : 0.0022837 val_accuracy : 9865/10000 (98.6500%)\n",
            "Model1 => [Epoch:   20] loss : 0.0032403 val_accuracy : 9889/10000 (98.8900%)\n",
            "Model1 => [Epoch:   21] loss : 0.0034918 val_accuracy : 9890/10000 (98.9000%)\n",
            "Model1 => [Epoch:   22] loss : 0.0019108 val_accuracy : 9883/10000 (98.8300%)\n",
            "Model1 => [Epoch:   23] loss : 0.0025331 val_accuracy : 9904/10000 (99.0400%)\n",
            "Model1 => [Epoch:   24] loss : 0.0007160 val_accuracy : 9903/10000 (99.0300%)\n",
            "Model1 => [Epoch:   25] loss : 0.0012679 val_accuracy : 9849/10000 (98.4900%)\n",
            "Model1 => [Epoch:   26] loss : 0.0051001 val_accuracy : 9895/10000 (98.9500%)\n",
            "Model1 => [Epoch:   27] loss : 0.0010231 val_accuracy : 9895/10000 (98.9500%)\n",
            "Model1 => [Epoch:   28] loss : 0.0019651 val_accuracy : 9887/10000 (98.8700%)\n",
            "Model1 => [Epoch:   29] loss : 0.0029258 val_accuracy : 9873/10000 (98.7300%)\n",
            "Model1 => [Epoch:   30] loss : 0.0023668 val_accuracy : 9901/10000 (99.0100%)\n"
          ]
        }
      ]
    },
    {
      "cell_type": "markdown",
      "source": [
        "## Model2 Training & Test"
      ],
      "metadata": {
        "id": "R6lwVViC3zvP"
      }
    },
    {
      "cell_type": "code",
      "source": [
        "model2_cost = []\n",
        "model2_acc = []\n",
        "\n",
        "best_acc2 = 0.0\n",
        "best_model2 = deepcopy(model2.state_dict())\n",
        "\n",
        "for epoch in range(30) :\n",
        "    avg_cost = 0\n",
        "\n",
        "    model2.train()\n",
        "    for x, y in train_dloader :\n",
        "        x = x.to(device)\n",
        "        y = y.to(device)\n",
        "\n",
        "        optimizer2.zero_grad()\n",
        "        output = model2(x)\n",
        "\n",
        "        loss = loss_func2(output, y)\n",
        "        loss.backward()\n",
        "        optimizer2.step()\n",
        "\n",
        "        avg_cost += loss.item()\n",
        "    \n",
        "    model2.eval()\n",
        "    correct = 0\n",
        "    with torch.no_grad() :\n",
        "        for x, y in test_dloader :\n",
        "            x = x.to(device)\n",
        "            y = y.to(device)\n",
        "            output = model2(x)\n",
        "            pred = output.argmax(dim=1, keepdim=True)\n",
        "            correct += pred.eq(y.view_as(pred)).sum().item()\n",
        "    \n",
        "    acc =  float(correct) / len(test_dloader.dataset)\n",
        "    \n",
        "    model2_cost.append(avg_cost / 600)\n",
        "    model2_acc.append(acc)\n",
        "\n",
        "    if acc * 100.0 > best_acc2 :\n",
        "        best_acc2 = acc * 100.0\n",
        "        best_model2 = deepcopy(model2.state_dict())\n",
        "        \n",
        "    print('Model2 => [Epoch: {:>4}] loss : {:>.7f} val_accuracy : {}/{} ({:>.4f}%)'.format(epoch + 1, avg_cost / 600, correct, len(test_dloader.dataset), acc * 100.))"
      ],
      "metadata": {
        "id": "gWFhEXKBbTdm",
        "execution": {
          "iopub.status.busy": "2022-04-19T01:19:22.824026Z",
          "iopub.execute_input": "2022-04-19T01:19:22.824384Z",
          "iopub.status.idle": "2022-04-19T01:23:11.704424Z",
          "shell.execute_reply.started": "2022-04-19T01:19:22.824344Z",
          "shell.execute_reply": "2022-04-19T01:23:11.703653Z"
        },
        "trusted": true,
        "colab": {
          "base_uri": "https://localhost:8080/"
        },
        "outputId": "872ff458-1f6e-46b0-bf43-7b1a25e370bd"
      },
      "execution_count": 12,
      "outputs": [
        {
          "output_type": "stream",
          "name": "stdout",
          "text": [
            "Model2 => [Epoch:    1] loss : 0.2621770 val_accuracy : 9746/10000 (97.4600%)\n",
            "Model2 => [Epoch:    2] loss : 0.0613189 val_accuracy : 9855/10000 (98.5500%)\n",
            "Model2 => [Epoch:    3] loss : 0.0427620 val_accuracy : 9862/10000 (98.6200%)\n",
            "Model2 => [Epoch:    4] loss : 0.0333637 val_accuracy : 9874/10000 (98.7400%)\n",
            "Model2 => [Epoch:    5] loss : 0.0270129 val_accuracy : 9904/10000 (99.0400%)\n",
            "Model2 => [Epoch:    6] loss : 0.0206307 val_accuracy : 9892/10000 (98.9200%)\n",
            "Model2 => [Epoch:    7] loss : 0.0184824 val_accuracy : 9892/10000 (98.9200%)\n",
            "Model2 => [Epoch:    8] loss : 0.0142288 val_accuracy : 9894/10000 (98.9400%)\n",
            "Model2 => [Epoch:    9] loss : 0.0133103 val_accuracy : 9872/10000 (98.7200%)\n",
            "Model2 => [Epoch:   10] loss : 0.0119203 val_accuracy : 9888/10000 (98.8800%)\n",
            "Model2 => [Epoch:   11] loss : 0.0096021 val_accuracy : 9896/10000 (98.9600%)\n",
            "Model2 => [Epoch:   12] loss : 0.0087252 val_accuracy : 9906/10000 (99.0600%)\n",
            "Model2 => [Epoch:   13] loss : 0.0086089 val_accuracy : 9902/10000 (99.0200%)\n",
            "Model2 => [Epoch:   14] loss : 0.0070054 val_accuracy : 9912/10000 (99.1200%)\n",
            "Model2 => [Epoch:   15] loss : 0.0070413 val_accuracy : 9905/10000 (99.0500%)\n",
            "Model2 => [Epoch:   16] loss : 0.0066257 val_accuracy : 9909/10000 (99.0900%)\n",
            "Model2 => [Epoch:   17] loss : 0.0049818 val_accuracy : 9916/10000 (99.1600%)\n",
            "Model2 => [Epoch:   18] loss : 0.0050176 val_accuracy : 9894/10000 (98.9400%)\n",
            "Model2 => [Epoch:   19] loss : 0.0053874 val_accuracy : 9913/10000 (99.1300%)\n",
            "Model2 => [Epoch:   20] loss : 0.0056087 val_accuracy : 9888/10000 (98.8800%)\n",
            "Model2 => [Epoch:   21] loss : 0.0023304 val_accuracy : 9922/10000 (99.2200%)\n",
            "Model2 => [Epoch:   22] loss : 0.0045833 val_accuracy : 9906/10000 (99.0600%)\n",
            "Model2 => [Epoch:   23] loss : 0.0045602 val_accuracy : 9898/10000 (98.9800%)\n",
            "Model2 => [Epoch:   24] loss : 0.0025998 val_accuracy : 9904/10000 (99.0400%)\n",
            "Model2 => [Epoch:   25] loss : 0.0038129 val_accuracy : 9914/10000 (99.1400%)\n",
            "Model2 => [Epoch:   26] loss : 0.0048677 val_accuracy : 9915/10000 (99.1500%)\n",
            "Model2 => [Epoch:   27] loss : 0.0016390 val_accuracy : 9912/10000 (99.1200%)\n",
            "Model2 => [Epoch:   28] loss : 0.0035198 val_accuracy : 9918/10000 (99.1800%)\n",
            "Model2 => [Epoch:   29] loss : 0.0020874 val_accuracy : 9903/10000 (99.0300%)\n",
            "Model2 => [Epoch:   30] loss : 0.0034198 val_accuracy : 9916/10000 (99.1600%)\n"
          ]
        }
      ]
    },
    {
      "cell_type": "markdown",
      "source": [
        "## Model3 Training & Test"
      ],
      "metadata": {
        "id": "uqP8WvJM335k"
      }
    },
    {
      "cell_type": "code",
      "source": [
        "model3_cost = []\n",
        "model3_acc = []\n",
        "\n",
        "best_acc3 = 0.0\n",
        "best_model3 = deepcopy(model3.state_dict())\n",
        "\n",
        "for epoch in range(30) :\n",
        "    avg_cost = 0\n",
        "\n",
        "    model3.train()\n",
        "    for x, y in train_dloader :\n",
        "        x = x.to(device)\n",
        "        y = y.to(device)\n",
        "\n",
        "        optimizer3.zero_grad()\n",
        "        output = model3(x)\n",
        "\n",
        "        loss = loss_func3(output, y)\n",
        "        loss.backward()\n",
        "        optimizer3.step()\n",
        "\n",
        "        avg_cost += loss.item()\n",
        "\n",
        "    model3.eval()\n",
        "    correct = 0\n",
        "    with torch.no_grad() :\n",
        "        for x, y in test_dloader :\n",
        "            x = x.to(device)\n",
        "            y = y.to(device)\n",
        "            output = model3(x)\n",
        "            pred = output.argmax(dim=1, keepdim=True)\n",
        "            correct += pred.eq(y.view_as(pred)).sum().item()\n",
        "    \n",
        "    acc =  float(correct) / len(test_dloader.dataset)\n",
        "\n",
        "    model3_cost.append(avg_cost / 600)\n",
        "    model3_acc.append(acc)\n",
        "\n",
        "    if acc * 100.0 > best_acc3 :\n",
        "        best_acc3 = acc * 100.0\n",
        "        best_model3 = deepcopy(model3.state_dict())\n",
        "\n",
        "    print('Model3 => [Epoch: {:>4}] loss : {:>.7f} val_accuracy : {}/{} ({:>.4f}%)'.format(epoch + 1, avg_cost / 600, correct, len(test_dloader.dataset), acc * 100.))"
      ],
      "metadata": {
        "id": "Qk7ktEILbT3e",
        "execution": {
          "iopub.status.busy": "2022-04-19T01:23:11.705591Z",
          "iopub.execute_input": "2022-04-19T01:23:11.706366Z",
          "iopub.status.idle": "2022-04-19T01:28:01.35882Z",
          "shell.execute_reply.started": "2022-04-19T01:23:11.706327Z",
          "shell.execute_reply": "2022-04-19T01:28:01.358062Z"
        },
        "trusted": true,
        "colab": {
          "base_uri": "https://localhost:8080/"
        },
        "outputId": "e1a161dd-4862-4f18-a66b-9207c611188e"
      },
      "execution_count": 13,
      "outputs": [
        {
          "output_type": "stream",
          "name": "stdout",
          "text": [
            "Model3 => [Epoch:    1] loss : 0.1932156 val_accuracy : 9808/10000 (98.0800%)\n",
            "Model3 => [Epoch:    2] loss : 0.0518336 val_accuracy : 9858/10000 (98.5800%)\n",
            "Model3 => [Epoch:    3] loss : 0.0366882 val_accuracy : 9895/10000 (98.9500%)\n",
            "Model3 => [Epoch:    4] loss : 0.0274982 val_accuracy : 9897/10000 (98.9700%)\n",
            "Model3 => [Epoch:    5] loss : 0.0215493 val_accuracy : 9912/10000 (99.1200%)\n",
            "Model3 => [Epoch:    6] loss : 0.0170988 val_accuracy : 9902/10000 (99.0200%)\n",
            "Model3 => [Epoch:    7] loss : 0.0136069 val_accuracy : 9890/10000 (98.9000%)\n",
            "Model3 => [Epoch:    8] loss : 0.0125688 val_accuracy : 9884/10000 (98.8400%)\n",
            "Model3 => [Epoch:    9] loss : 0.0104321 val_accuracy : 9893/10000 (98.9300%)\n",
            "Model3 => [Epoch:   10] loss : 0.0105109 val_accuracy : 9894/10000 (98.9400%)\n",
            "Model3 => [Epoch:   11] loss : 0.0077346 val_accuracy : 9909/10000 (99.0900%)\n",
            "Model3 => [Epoch:   12] loss : 0.0068434 val_accuracy : 9904/10000 (99.0400%)\n",
            "Model3 => [Epoch:   13] loss : 0.0053656 val_accuracy : 9909/10000 (99.0900%)\n",
            "Model3 => [Epoch:   14] loss : 0.0055793 val_accuracy : 9920/10000 (99.2000%)\n",
            "Model3 => [Epoch:   15] loss : 0.0072968 val_accuracy : 9902/10000 (99.0200%)\n",
            "Model3 => [Epoch:   16] loss : 0.0041971 val_accuracy : 9905/10000 (99.0500%)\n",
            "Model3 => [Epoch:   17] loss : 0.0041423 val_accuracy : 9915/10000 (99.1500%)\n",
            "Model3 => [Epoch:   18] loss : 0.0045462 val_accuracy : 9916/10000 (99.1600%)\n",
            "Model3 => [Epoch:   19] loss : 0.0030313 val_accuracy : 9914/10000 (99.1400%)\n",
            "Model3 => [Epoch:   20] loss : 0.0022099 val_accuracy : 9898/10000 (98.9800%)\n",
            "Model3 => [Epoch:   21] loss : 0.0048932 val_accuracy : 9901/10000 (99.0100%)\n",
            "Model3 => [Epoch:   22] loss : 0.0025059 val_accuracy : 9875/10000 (98.7500%)\n",
            "Model3 => [Epoch:   23] loss : 0.0037428 val_accuracy : 9914/10000 (99.1400%)\n",
            "Model3 => [Epoch:   24] loss : 0.0035478 val_accuracy : 9898/10000 (98.9800%)\n",
            "Model3 => [Epoch:   25] loss : 0.0035943 val_accuracy : 9916/10000 (99.1600%)\n",
            "Model3 => [Epoch:   26] loss : 0.0039259 val_accuracy : 9909/10000 (99.0900%)\n",
            "Model3 => [Epoch:   27] loss : 0.0026103 val_accuracy : 9911/10000 (99.1100%)\n",
            "Model3 => [Epoch:   28] loss : 0.0016960 val_accuracy : 9908/10000 (99.0800%)\n",
            "Model3 => [Epoch:   29] loss : 0.0025020 val_accuracy : 9905/10000 (99.0500%)\n",
            "Model3 => [Epoch:   30] loss : 0.0019573 val_accuracy : 9896/10000 (98.9600%)\n"
          ]
        }
      ]
    },
    {
      "cell_type": "markdown",
      "source": [
        "# Loss of Model1, Model2 and Model3"
      ],
      "metadata": {
        "id": "a2G6EW3z5BeW"
      }
    },
    {
      "cell_type": "markdown",
      "source": [
        "## Define Visualization Function"
      ],
      "metadata": {
        "id": "Yksb2lYJYPlA"
      }
    },
    {
      "cell_type": "code",
      "source": [
        "def graph(y = None, title = None, xaxis_title = \"Epoch\", yaxis_title = None, plot_color_type = \"b\") :\n",
        "    plt.figure(figsize=(15, 10), facecolor=\"white\")\n",
        "    plt.title(title, fontdict = {'fontsize' : 25})\n",
        "    plt.xlabel(xaxis_title, fontdict = {'fontsize' : 25})\n",
        "    plt.ylabel(yaxis_title, fontdict = {'fontsize' : 25})\n",
        "\n",
        "    plt.xticks(fontsize=15)\n",
        "    plt.yticks(fontsize=15)\n",
        "    plt.grid(True)\n",
        "    plt.plot(list(range(30)), y, plot_color_type + \"x\")\n",
        "    plt.plot(list(range(30)), y, plot_color_type)"
      ],
      "metadata": {
        "id": "tUsnVrIh5Mq3",
        "execution": {
          "iopub.status.busy": "2022-04-19T01:28:01.360785Z",
          "iopub.execute_input": "2022-04-19T01:28:01.361205Z",
          "iopub.status.idle": "2022-04-19T01:28:01.36829Z",
          "shell.execute_reply.started": "2022-04-19T01:28:01.361166Z",
          "shell.execute_reply": "2022-04-19T01:28:01.367454Z"
        },
        "trusted": true
      },
      "execution_count": 14,
      "outputs": []
    },
    {
      "cell_type": "markdown",
      "source": [
        "## Model1 Loss/Epoch Graph"
      ],
      "metadata": {
        "id": "HsF3ORRHYT5v"
      }
    },
    {
      "cell_type": "code",
      "source": [
        "graph(model1_cost, \"Training Loss Value of Model 1\", yaxis_title=\"Training Loss Value\")"
      ],
      "metadata": {
        "id": "oTSYVvq25M-x",
        "execution": {
          "iopub.status.busy": "2022-04-19T02:13:08.404017Z",
          "iopub.execute_input": "2022-04-19T02:13:08.404683Z",
          "iopub.status.idle": "2022-04-19T02:13:08.649528Z",
          "shell.execute_reply.started": "2022-04-19T02:13:08.404649Z",
          "shell.execute_reply": "2022-04-19T02:13:08.648857Z"
        },
        "trusted": true,
        "colab": {
          "base_uri": "https://localhost:8080/",
          "height": 506
        },
        "outputId": "00a02bbd-a2c3-45d3-ec1d-2ab594882e4c"
      },
      "execution_count": 15,
      "outputs": [
        {
          "output_type": "display_data",
          "data": {
            "text/plain": [
              "<Figure size 1080x720 with 1 Axes>"
            ],
            "image/png": "[encoded data removed]"
          },
          "metadata": {}
        }
      ]
    },
    {
      "cell_type": "markdown",
      "source": [
        "## Model2 Loss/Epoch Graph"
      ],
      "metadata": {
        "id": "AkphXWBQYYaj"
      }
    },
    {
      "cell_type": "code",
      "source": [
        "graph(model2_cost, \"Training Loss Value of Model 2\", yaxis_title=\"Training Loss Value\", plot_color_type=\"r\")"
      ],
      "metadata": {
        "id": "TS8e-QW5Xpuq",
        "execution": {
          "iopub.status.busy": "2022-04-19T02:13:08.77838Z",
          "iopub.execute_input": "2022-04-19T02:13:08.778721Z",
          "iopub.status.idle": "2022-04-19T02:13:09.015494Z",
          "shell.execute_reply.started": "2022-04-19T02:13:08.778688Z",
          "shell.execute_reply": "2022-04-19T02:13:09.014842Z"
        },
        "trusted": true,
        "colab": {
          "base_uri": "https://localhost:8080/",
          "height": 511
        },
        "outputId": "342abcca-d780-4785-ca2d-4ba9cd1fa697"
      },
      "execution_count": 16,
      "outputs": [
        {
          "output_type": "display_data",
          "data": {
            "text/plain": [
              "<Figure size 1080x720 with 1 Axes>"
            ],
            "image/png": "[encoded data removed]"
          },
          "metadata": {}
        }
      ]
    },
    {
      "cell_type": "markdown",
      "source": [
        "## Model3 Loss/Epoch Graph"
      ],
      "metadata": {
        "id": "N3Z5jq71Ybjv"
      }
    },
    {
      "cell_type": "code",
      "source": [
        "graph(model3_cost, \"Training Loss Value of Model 3\", yaxis_title=\"Training Loss Value\", plot_color_type=\"g\")"
      ],
      "metadata": {
        "id": "1qmQD6rlXyvX",
        "execution": {
          "iopub.status.busy": "2022-04-19T02:13:11.354954Z",
          "iopub.execute_input": "2022-04-19T02:13:11.35546Z",
          "iopub.status.idle": "2022-04-19T02:13:11.597399Z",
          "shell.execute_reply.started": "2022-04-19T02:13:11.355422Z",
          "shell.execute_reply": "2022-04-19T02:13:11.596715Z"
        },
        "trusted": true,
        "colab": {
          "base_uri": "https://localhost:8080/",
          "height": 506
        },
        "outputId": "05fe394d-fadf-42c2-d63a-d933813b51ce"
      },
      "execution_count": 17,
      "outputs": [
        {
          "output_type": "display_data",
          "data": {
            "text/plain": [
              "<Figure size 1080x720 with 1 Axes>"
            ],
            "image/png": "[encoded data removed]"
          },
          "metadata": {}
        }
      ]
    },
    {
      "cell_type": "markdown",
      "source": [
        "## Combine Model 1, 2, 3 Graphs"
      ],
      "metadata": {
        "id": "xLhMHNgvYewb"
      }
    },
    {
      "cell_type": "code",
      "source": [
        "plt.figure(figsize=(15, 10), facecolor=\"white\")\n",
        "plt.title(\"Training Loss Value of Model 1, 2, 3\", fontdict = {'fontsize' : 25})\n",
        "plt.xlabel(\"Epoch\", fontdict = {'fontsize' : 25})\n",
        "plt.ylabel(\"Training Loss Value\", fontdict = {'fontsize' : 25})\n",
        "\n",
        "plt.xticks(fontsize=15)\n",
        "plt.yticks(fontsize=15)\n",
        "plt.grid(True)\n",
        "plt.plot(list(range(30)), model1_cost, \"bx\")\n",
        "plt.plot(list(range(30)), model1_cost, \"b\", label=\"Model 1\")\n",
        "\n",
        "plt.plot(list(range(30)), model2_cost, \"rx\")\n",
        "plt.plot(list(range(30)), model2_cost, \"r\", label=\"Model 2\")\n",
        "\n",
        "plt.plot(list(range(30)), model3_cost, \"gx\")\n",
        "plt.plot(list(range(30)), model3_cost, \"g\", label=\"Model 3\")\n",
        "\n",
        "plt.legend(fontsize=15)"
      ],
      "metadata": {
        "id": "hzUUO_ATYeLb",
        "execution": {
          "iopub.status.busy": "2022-04-19T02:13:19.685494Z",
          "iopub.execute_input": "2022-04-19T02:13:19.686204Z",
          "iopub.status.idle": "2022-04-19T02:13:19.969564Z",
          "shell.execute_reply.started": "2022-04-19T02:13:19.686167Z",
          "shell.execute_reply": "2022-04-19T02:13:19.968831Z"
        },
        "trusted": true,
        "colab": {
          "base_uri": "https://localhost:8080/",
          "height": 529
        },
        "outputId": "5756f1f9-97e6-48cf-9122-2330e2ac6300"
      },
      "execution_count": 18,
      "outputs": [
        {
          "output_type": "execute_result",
          "data": {
            "text/plain": [
              "<matplotlib.legend.Legend at 0x7f433ccf4cd0>"
            ]
          },
          "metadata": {},
          "execution_count": 18
        },
        {
          "output_type": "display_data",
          "data": {
            "text/plain": [
              "<Figure size 1080x720 with 1 Axes>"
            ],
            "image/png": "[encoded data removed]"
          },
          "metadata": {}
        }
      ]
    },
    {
      "cell_type": "markdown",
      "source": [
        "# Accuracy of Model1, Model2 and Model3"
      ],
      "metadata": {
        "id": "gYW05zyb_bVV"
      }
    },
    {
      "cell_type": "markdown",
      "source": [
        "## Model1 Accuracy/Epoch Graph"
      ],
      "metadata": {
        "id": "UZcIF9CF_bVV"
      }
    },
    {
      "cell_type": "code",
      "source": [
        "graph(model1_acc, \"Test Accuracy of Model 1\", yaxis_title=\"Test Accuracy\")"
      ],
      "metadata": {
        "execution": {
          "iopub.status.busy": "2022-04-19T02:13:50.833252Z",
          "iopub.execute_input": "2022-04-19T02:13:50.833508Z",
          "iopub.status.idle": "2022-04-19T02:13:51.062589Z",
          "shell.execute_reply.started": "2022-04-19T02:13:50.833478Z",
          "shell.execute_reply": "2022-04-19T02:13:51.061892Z"
        },
        "trusted": true,
        "colab": {
          "base_uri": "https://localhost:8080/",
          "height": 501
        },
        "id": "-38mhvlD_bVW",
        "outputId": "fc3a8132-f738-4685-da1e-30d90672515d"
      },
      "execution_count": 19,
      "outputs": [
        {
          "output_type": "display_data",
          "data": {
            "text/plain": [
              "<Figure size 1080x720 with 1 Axes>"
            ],
            "image/png": "[encoded data removed]"
          },
          "metadata": {}
        }
      ]
    },
    {
      "cell_type": "markdown",
      "source": [
        "## Model2 Accuracy/Epoch Graph"
      ],
      "metadata": {
        "id": "uaqRLzFe_bVW"
      }
    },
    {
      "cell_type": "code",
      "source": [
        "graph(model2_acc, \"Test Accuracy of Model 2\", yaxis_title=\"Test Accuracy\", plot_color_type=\"r\")"
      ],
      "metadata": {
        "execution": {
          "iopub.status.busy": "2022-04-19T02:13:51.194082Z",
          "iopub.execute_input": "2022-04-19T02:13:51.194615Z",
          "iopub.status.idle": "2022-04-19T02:13:51.432408Z",
          "shell.execute_reply.started": "2022-04-19T02:13:51.19458Z",
          "shell.execute_reply": "2022-04-19T02:13:51.431728Z"
        },
        "trusted": true,
        "colab": {
          "base_uri": "https://localhost:8080/",
          "height": 501
        },
        "id": "kiQ5fbRO_bVW",
        "outputId": "87c4c867-494b-42f2-a91f-8b6a4d1a1f96"
      },
      "execution_count": 20,
      "outputs": [
        {
          "output_type": "display_data",
          "data": {
            "text/plain": [
              "<Figure size 1080x720 with 1 Axes>"
            ],
            "image/png": "[encoded data removed]"
          },
          "metadata": {}
        }
      ]
    },
    {
      "cell_type": "markdown",
      "source": [
        "## Model3 Accuracy/Epoch Graph"
      ],
      "metadata": {
        "id": "aGBRvHzH_bVW"
      }
    },
    {
      "cell_type": "code",
      "source": [
        "graph(model3_acc, \"Test Accuracy of Model 3\", yaxis_title=\"Test Accuracy\", plot_color_type=\"g\")"
      ],
      "metadata": {
        "execution": {
          "iopub.status.busy": "2022-04-19T02:13:58.560167Z",
          "iopub.execute_input": "2022-04-19T02:13:58.560811Z",
          "iopub.status.idle": "2022-04-19T02:13:58.798528Z",
          "shell.execute_reply.started": "2022-04-19T02:13:58.560771Z",
          "shell.execute_reply": "2022-04-19T02:13:58.79783Z"
        },
        "trusted": true,
        "colab": {
          "base_uri": "https://localhost:8080/",
          "height": 506
        },
        "id": "3c5LVHsz_bVW",
        "outputId": "ec981234-d37e-47fa-eb60-26b1faf3b40d"
      },
      "execution_count": 21,
      "outputs": [
        {
          "output_type": "display_data",
          "data": {
            "text/plain": [
              "<Figure size 1080x720 with 1 Axes>"
            ],
            "image/png": "[encoded data removed]"
          },
          "metadata": {}
        }
      ]
    },
    {
      "cell_type": "markdown",
      "source": [
        "## Combine Model 1, 2, 3 Graphs"
      ],
      "metadata": {
        "id": "tR8IMX9A_bVW"
      }
    },
    {
      "cell_type": "code",
      "source": [
        "plt.figure(figsize=(15, 10), facecolor=\"white\")\n",
        "plt.title(\"Test Accuracy of Model 1, 2, 3\", fontdict = {'fontsize' : 25})\n",
        "plt.xlabel(\"Epoch\", fontdict = {'fontsize' : 25})\n",
        "plt.ylabel(\"Test Accuracy\", fontdict = {'fontsize' : 25})\n",
        "\n",
        "plt.xticks(fontsize=15)\n",
        "plt.yticks(fontsize=15)\n",
        "plt.grid(True)\n",
        "plt.plot(list(range(30)), model1_acc, \"bx\")\n",
        "plt.plot(list(range(30)), model1_acc, \"b\", label=\"Model 1\")\n",
        "\n",
        "plt.plot(list(range(30)), model2_acc, \"rx\")\n",
        "plt.plot(list(range(30)), model2_acc, \"r\", label=\"Model 2\")\n",
        "\n",
        "plt.plot(list(range(30)), model3_acc, \"gx\")\n",
        "plt.plot(list(range(30)), model3_acc, \"g\", label=\"Model 3\")\n",
        "\n",
        "plt.legend(fontsize=15)"
      ],
      "metadata": {
        "execution": {
          "iopub.status.busy": "2022-04-19T02:13:55.65583Z",
          "iopub.execute_input": "2022-04-19T02:13:55.656559Z",
          "iopub.status.idle": "2022-04-19T02:13:55.951893Z",
          "shell.execute_reply.started": "2022-04-19T02:13:55.656521Z",
          "shell.execute_reply": "2022-04-19T02:13:55.951231Z"
        },
        "trusted": true,
        "colab": {
          "base_uri": "https://localhost:8080/",
          "height": 524
        },
        "id": "sMZ2ivft_bVW",
        "outputId": "437da823-7089-412c-942a-3186e35192b9"
      },
      "execution_count": 22,
      "outputs": [
        {
          "output_type": "execute_result",
          "data": {
            "text/plain": [
              "<matplotlib.legend.Legend at 0x7f433c318690>"
            ]
          },
          "metadata": {},
          "execution_count": 22
        },
        {
          "output_type": "display_data",
          "data": {
            "text/plain": [
              "<Figure size 1080x720 with 1 Axes>"
            ],
            "image/png": "[encoded data removed]"
          },
          "metadata": {}
        }
      ]
    },
    {
      "cell_type": "markdown",
      "source": [
        "# Evaluation Table"
      ],
      "metadata": {
        "id": "rSKK5ksw_bVX"
      }
    },
    {
      "cell_type": "code",
      "source": [
        "model1_final_training_loss = model1_cost[-1]\n",
        "model2_final_training_loss = model2_cost[-1]\n",
        "model3_final_training_loss = model3_cost[-1]\n",
        "\n",
        "model1_final_test_acc = model1_acc[-1] * 100.0\n",
        "model2_final_test_acc = model2_acc[-1] * 100.0\n",
        "model3_final_test_acc = model3_acc[-1] * 100.0"
      ],
      "metadata": {
        "execution": {
          "iopub.status.busy": "2022-04-19T02:24:10.942834Z",
          "iopub.execute_input": "2022-04-19T02:24:10.945218Z",
          "iopub.status.idle": "2022-04-19T02:24:10.952727Z",
          "shell.execute_reply.started": "2022-04-19T02:24:10.945173Z",
          "shell.execute_reply": "2022-04-19T02:24:10.952048Z"
        },
        "trusted": true,
        "id": "ywb2_9fN_bVX"
      },
      "execution_count": 23,
      "outputs": []
    },
    {
      "cell_type": "code",
      "source": [
        "final_training_loss = [model1_final_training_loss, model2_final_training_loss, model3_final_training_loss]\n",
        "final_test_acc = [str(model1_final_test_acc) + \"%\", str(model2_final_test_acc) + \"%\", str(model3_final_test_acc) + \"%\"]"
      ],
      "metadata": {
        "execution": {
          "iopub.status.busy": "2022-04-19T02:28:47.857947Z",
          "iopub.execute_input": "2022-04-19T02:28:47.858764Z",
          "iopub.status.idle": "2022-04-19T02:28:47.86354Z",
          "shell.execute_reply.started": "2022-04-19T02:28:47.858722Z",
          "shell.execute_reply": "2022-04-19T02:28:47.862796Z"
        },
        "trusted": true,
        "id": "PoFsnhQ4_bVX"
      },
      "execution_count": 24,
      "outputs": []
    },
    {
      "cell_type": "code",
      "source": [
        "eval_table = pd.DataFrame(index=[\"Model1\", \"Model2\", \"Model3\"], data={\"Final Training Loss\": final_training_loss, \"Final Test Accuracy\": final_test_acc})"
      ],
      "metadata": {
        "execution": {
          "iopub.status.busy": "2022-04-19T02:30:08.668825Z",
          "iopub.execute_input": "2022-04-19T02:30:08.669418Z",
          "iopub.status.idle": "2022-04-19T02:30:08.67428Z",
          "shell.execute_reply.started": "2022-04-19T02:30:08.669378Z",
          "shell.execute_reply": "2022-04-19T02:30:08.673437Z"
        },
        "trusted": true,
        "id": "nh8yPNk9_bVX"
      },
      "execution_count": 25,
      "outputs": []
    },
    {
      "cell_type": "code",
      "source": [
        "display(eval_table)"
      ],
      "metadata": {
        "execution": {
          "iopub.status.busy": "2022-04-19T02:30:11.910399Z",
          "iopub.execute_input": "2022-04-19T02:30:11.910937Z",
          "iopub.status.idle": "2022-04-19T02:30:11.92043Z",
          "shell.execute_reply.started": "2022-04-19T02:30:11.910899Z",
          "shell.execute_reply": "2022-04-19T02:30:11.919205Z"
        },
        "trusted": true,
        "colab": {
          "base_uri": "https://localhost:8080/",
          "height": 172
        },
        "id": "s9zhV_8S_bVX",
        "outputId": "c184e5c6-8ee2-4d30-9408-c95a9ac0b02d"
      },
      "execution_count": 26,
      "outputs": [
        {
          "output_type": "display_data",
          "data": {
            "text/plain": [
              "        Final Training Loss Final Test Accuracy\n",
              "Model1             0.002367  99.00999999999999%\n",
              "Model2             0.003420              99.16%\n",
              "Model3             0.001957  98.96000000000001%"
            ],
            "text/html": [
              "\n",
              "  <div id=\"df-473c1ce9-48fc-4047-86c0-fc5bcecf0749\">\n",
              "    <div class=\"colab-df-container\">\n",
              "      <div>\n",
              "<style scoped>\n",
              "    .dataframe tbody tr th:only-of-type {\n",
              "        vertical-align: middle;\n",
              "    }\n",
              "\n",
              "    .dataframe tbody tr th {\n",
              "        vertical-align: top;\n",
              "    }\n",
              "\n",
              "    .dataframe thead th {\n",
              "        text-align: right;\n",
              "    }\n",
              "</style>\n",
              "<table border=\"1\" class=\"dataframe\">\n",
              "  <thead>\n",
              "    <tr style=\"text-align: right;\">\n",
              "      <th></th>\n",
              "      <th>Final Training Loss</th>\n",
              "      <th>Final Test Accuracy</th>\n",
              "    </tr>\n",
              "  </thead>\n",
              "  <tbody>\n",
              "    <tr>\n",
              "      <th>Model1</th>\n",
              "      <td>0.002367</td>\n",
              "      <td>99.00999999999999%</td>\n",
              "    </tr>\n",
              "    <tr>\n",
              "      <th>Model2</th>\n",
              "      <td>0.003420</td>\n",
              "      <td>99.16%</td>\n",
              "    </tr>\n",
              "    <tr>\n",
              "      <th>Model3</th>\n",
              "      <td>0.001957</td>\n",
              "      <td>98.96000000000001%</td>\n",
              "    </tr>\n",
              "  </tbody>\n",
              "</table>\n",
              "</div>\n",
              "      <button class=\"colab-df-convert\" onclick=\"convertToInteractive('df-473c1ce9-48fc-4047-86c0-fc5bcecf0749')\"\n",
              "              title=\"Convert this dataframe to an interactive table.\"\n",
              "              style=\"display:none;\">\n",
              "        \n",
              "  <svg xmlns=\"http://www.w3.org/2000/svg\" height=\"24px\"viewBox=\"0 0 24 24\"\n",
              "       width=\"24px\">\n",
              "    <path d=\"M0 0h24v24H0V0z\" fill=\"none\"/>\n",
              "    <path d=\"M18.56 5.44l.94 2.06.94-2.06 2.06-.94-2.06-.94-.94-2.06-.94 2.06-2.06.94zm-11 1L8.5 8.5l.94-2.06 2.06-.94-2.06-.94L8.5 2.5l-.94 2.06-2.06.94zm10 10l.94 2.06.94-2.06 2.06-.94-2.06-.94-.94-2.06-.94 2.06-2.06.94z\"/><path d=\"M17.41 7.96l-1.37-1.37c-.4-.4-.92-.59-1.43-.59-.52 0-1.04.2-1.43.59L10.3 9.45l-7.72 7.72c-.78.78-.78 2.05 0 2.83L4 21.41c.39.39.9.59 1.41.59.51 0 1.02-.2 1.41-.59l7.78-7.78 2.81-2.81c.8-.78.8-2.07 0-2.86zM5.41 20L4 18.59l7.72-7.72 1.47 1.35L5.41 20z\"/>\n",
              "  </svg>\n",
              "      </button>\n",
              "      \n",
              "  <style>\n",
              "    .colab-df-container {\n",
              "      display:flex;\n",
              "      flex-wrap:wrap;\n",
              "      gap: 12px;\n",
              "    }\n",
              "\n",
              "    .colab-df-convert {\n",
              "      background-color: #E8F0FE;\n",
              "      border: none;\n",
              "      border-radius: 50%;\n",
              "      cursor: pointer;\n",
              "      display: none;\n",
              "      fill: #1967D2;\n",
              "      height: 32px;\n",
              "      padding: 0 0 0 0;\n",
              "      width: 32px;\n",
              "    }\n",
              "\n",
              "    .colab-df-convert:hover {\n",
              "      background-color: #E2EBFA;\n",
              "      box-shadow: 0px 1px 2px rgba(60, 64, 67, 0.3), 0px 1px 3px 1px rgba(60, 64, 67, 0.15);\n",
              "      fill: #174EA6;\n",
              "    }\n",
              "\n",
              "    [theme=dark] .colab-df-convert {\n",
              "      background-color: #3B4455;\n",
              "      fill: #D2E3FC;\n",
              "    }\n",
              "\n",
              "    [theme=dark] .colab-df-convert:hover {\n",
              "      background-color: #434B5C;\n",
              "      box-shadow: 0px 1px 3px 1px rgba(0, 0, 0, 0.15);\n",
              "      filter: drop-shadow(0px 1px 2px rgba(0, 0, 0, 0.3));\n",
              "      fill: #FFFFFF;\n",
              "    }\n",
              "  </style>\n",
              "\n",
              "      <script>\n",
              "        const buttonEl =\n",
              "          document.querySelector('#df-473c1ce9-48fc-4047-86c0-fc5bcecf0749 button.colab-df-convert');\n",
              "        buttonEl.style.display =\n",
              "          google.colab.kernel.accessAllowed ? 'block' : 'none';\n",
              "\n",
              "        async function convertToInteractive(key) {\n",
              "          const element = document.querySelector('#df-473c1ce9-48fc-4047-86c0-fc5bcecf0749');\n",
              "          const dataTable =\n",
              "            await google.colab.kernel.invokeFunction('convertToInteractive',\n",
              "                                                     [key], {});\n",
              "          if (!dataTable) return;\n",
              "\n",
              "          const docLinkHtml = 'Like what you see? Visit the ' +\n",
              "            '<a target=\"_blank\" href=https://colab.research.google.com/notebooks/data_table.ipynb>data table notebook</a>'\n",
              "            + ' to learn more about interactive tables.';\n",
              "          element.innerHTML = '';\n",
              "          dataTable['output_type'] = 'display_data';\n",
              "          await google.colab.output.renderOutput(dataTable, element);\n",
              "          const docLink = document.createElement('div');\n",
              "          docLink.innerHTML = docLinkHtml;\n",
              "          element.appendChild(docLink);\n",
              "        }\n",
              "      </script>\n",
              "    </div>\n",
              "  </div>\n",
              "  "
            ]
          },
          "metadata": {}
        }
      ]
    },
    {
      "cell_type": "markdown",
      "source": [
        "# Save Model"
      ],
      "metadata": {
        "id": "MR5V-usw5NW1"
      }
    },
    {
      "cell_type": "code",
      "source": [
        "torch.save(best_model1, \"./model1.pt\")\n",
        "torch.save(best_model2, \"./model2.pt\")\n",
        "torch.save(best_model3, \"./model3.pt\")"
      ],
      "metadata": {
        "id": "A5LOrgetbbin",
        "execution": {
          "iopub.status.busy": "2022-04-19T02:14:05.329012Z",
          "iopub.execute_input": "2022-04-19T02:14:05.329418Z",
          "iopub.status.idle": "2022-04-19T02:14:05.354213Z",
          "shell.execute_reply.started": "2022-04-19T02:14:05.329382Z",
          "shell.execute_reply": "2022-04-19T02:14:05.35347Z"
        },
        "trusted": true
      },
      "execution_count": 27,
      "outputs": []
    },
    {
      "cell_type": "markdown",
      "source": [
        "## Load & Test Model"
      ],
      "metadata": {
        "id": "BwbnIuxc_bVX"
      }
    },
    {
      "cell_type": "code",
      "source": [
        "# Load Model1 & Test\n",
        "test_model = CustomCNNModel1().to(device)\n",
        "test_model.load_state_dict(torch.load(\"./model1.pt\"))\n",
        "\n",
        "test_model.eval()\n",
        "correct = 0\n",
        "with torch.no_grad() :\n",
        "    for x, y in test_dloader :\n",
        "        x = x.to(device)\n",
        "        y = y.to(device)\n",
        "        output = test_model(x)\n",
        "        pred = output.argmax(dim=1, keepdim=True)\n",
        "        correct += pred.eq(y.view_as(pred)).sum().item()\n",
        "\n",
        "acc =  float(correct) / len(test_dloader.dataset)\n",
        "print(\"Model 1 ACCURACY : \", acc * 100.0)\n",
        "\n",
        "# Load Model2 & Test\n",
        "test_model = CustomCNNModel2().to(device)\n",
        "test_model.load_state_dict(torch.load(\"./model2.pt\"))\n",
        "\n",
        "test_model.eval()\n",
        "correct = 0\n",
        "with torch.no_grad() :\n",
        "    for x, y in test_dloader :\n",
        "        x = x.to(device)\n",
        "        y = y.to(device)\n",
        "        output = test_model(x)\n",
        "        pred = output.argmax(dim=1, keepdim=True)\n",
        "        correct += pred.eq(y.view_as(pred)).sum().item()\n",
        "\n",
        "acc =  float(correct) / len(test_dloader.dataset)\n",
        "print(\"Model 2 ACCURACY : \", acc * 100.0)\n",
        "\n",
        "# Load Model3 & Test\n",
        "test_model = CustomCNNModel3().to(device)\n",
        "test_model.load_state_dict(torch.load(\"./model3.pt\"))\n",
        "\n",
        "test_model.eval()\n",
        "correct = 0\n",
        "with torch.no_grad() :\n",
        "    for x, y in test_dloader :\n",
        "        x = x.to(device)\n",
        "        y = y.to(device)\n",
        "        output = test_model(x)\n",
        "        pred = output.argmax(dim=1, keepdim=True)\n",
        "        correct += pred.eq(y.view_as(pred)).sum().item()\n",
        "\n",
        "acc =  float(correct) / len(test_dloader.dataset)\n",
        "print(\"Model 3 ACCURACY : \", acc * 100.0)"
      ],
      "metadata": {
        "execution": {
          "iopub.status.busy": "2022-04-19T02:38:56.912707Z",
          "iopub.execute_input": "2022-04-19T02:38:56.912969Z",
          "iopub.status.idle": "2022-04-19T02:38:56.92934Z",
          "shell.execute_reply.started": "2022-04-19T02:38:56.912939Z",
          "shell.execute_reply": "2022-04-19T02:38:56.928688Z"
        },
        "trusted": true,
        "colab": {
          "base_uri": "https://localhost:8080/"
        },
        "id": "DlPb6ekJ_bVY",
        "outputId": "676f1c1b-7e35-43ac-9154-b7ff4a2b5a4e"
      },
      "execution_count": 28,
      "outputs": [
        {
          "output_type": "stream",
          "name": "stdout",
          "text": [
            "Model 1 ACCURACY :  99.03999999999999\n",
            "Model 2 ACCURACY :  99.22\n",
            "Model 3 ACCURACY :  99.2\n"
          ]
        }
      ]
    }
  ]
}